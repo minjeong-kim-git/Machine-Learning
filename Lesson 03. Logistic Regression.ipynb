{
 "cells": [
  {
   "cell_type": "markdown",
   "metadata": {},
   "source": [
    "## Logistic Regression 실습 - Breast Cancer 데이터셋\n",
    "---\n",
    "\n",
    "#### 데이터 설명\n",
    " - 데이터: 위스콘신 유방암 진단 데이터\n",
    " - 관측치 개수: 569개\n",
    " - 변수 개수: 독립변수 30개 / 종속변수 1개\n"
   ]
  },
  {
   "cell_type": "markdown",
   "metadata": {},
   "source": [
    "#### 독립 변수 (세포 특징)\n",
    " - radius : 반경 (중심에서 외벽까지 거리들의 평균값)\n",
    " - texture : 질감 (Gray-Scale 값들의 표준편차)\n",
    " - perimeter : 둘레\n",
    " - area : 면적\n",
    " - smoothness : 매끄러움 (반경길이의 국소적 벼노하)\n",
    " - compactness : 조그만 정도 (둘레^2/면적-1)\n",
    " - concavity : 오목함(윤관의 오목한 부분의 정도)\n",
    " - concave points : 오목한 점의 수\n",
    " - symmetry : 대칭\n",
    " - fractal dimension : 프랙탈 차원 (해안선근사-1)"
   ]
  },
  {
   "cell_type": "markdown",
   "metadata": {},
   "source": [
    "#### 종속 변수 (양성 여부)\n",
    " - malignant : 0, 악성 / Benign : 1, 양성"
   ]
  },
  {
   "cell_type": "code",
   "execution_count": 1,
   "metadata": {},
   "outputs": [],
   "source": [
    "import warnings\n",
    "warnings.filterwarnings('ignore')"
   ]
  },
  {
   "cell_type": "code",
   "execution_count": 2,
   "metadata": {},
   "outputs": [],
   "source": [
    "import pandas as pd\n",
    "import numpy as np\n",
    "import matplotlib.pyplot as plt\n",
    "\n",
    "# matplotlib 한글 문제\n",
    "from matplotlib import font_manager, rc\n",
    "font_name = font_manager.FontProperties(fname = \"c:/Windows/Fonts/malgun.ttf\").get_name()"
   ]
  },
  {
   "cell_type": "code",
   "execution_count": 3,
   "metadata": {},
   "outputs": [
    {
     "name": "stdout",
     "output_type": "stream",
     "text": [
      ".. _breast_cancer_dataset:\n",
      "\n",
      "Breast cancer wisconsin (diagnostic) dataset\n",
      "--------------------------------------------\n",
      "\n",
      "**Data Set Characteristics:**\n",
      "\n",
      "    :Number of Instances: 569\n",
      "\n",
      "    :Number of Attributes: 30 numeric, predictive attributes and the class\n",
      "\n",
      "    :Attribute Information:\n",
      "        - radius (mean of distances from center to points on the perimeter)\n",
      "        - texture (standard deviation of gray-scale values)\n",
      "        - perimeter\n",
      "        - area\n",
      "        - smoothness (local variation in radius lengths)\n",
      "        - compactness (perimeter^2 / area - 1.0)\n",
      "        - concavity (severity of concave portions of the contour)\n",
      "        - concave points (number of concave portions of the contour)\n",
      "        - symmetry \n",
      "        - fractal dimension (\"coastline approximation\" - 1)\n",
      "\n",
      "        The mean, standard error, and \"worst\" or largest (mean of the three\n",
      "        largest values) of these features were computed for each image,\n",
      "        resulting in 30 features.  For instance, field 3 is Mean Radius, field\n",
      "        13 is Radius SE, field 23 is Worst Radius.\n",
      "\n",
      "        - class:\n",
      "                - WDBC-Malignant\n",
      "                - WDBC-Benign\n",
      "\n",
      "    :Summary Statistics:\n",
      "\n",
      "    ===================================== ====== ======\n",
      "                                           Min    Max\n",
      "    ===================================== ====== ======\n",
      "    radius (mean):                        6.981  28.11\n",
      "    texture (mean):                       9.71   39.28\n",
      "    perimeter (mean):                     43.79  188.5\n",
      "    area (mean):                          143.5  2501.0\n",
      "    smoothness (mean):                    0.053  0.163\n",
      "    compactness (mean):                   0.019  0.345\n",
      "    concavity (mean):                     0.0    0.427\n",
      "    concave points (mean):                0.0    0.201\n",
      "    symmetry (mean):                      0.106  0.304\n",
      "    fractal dimension (mean):             0.05   0.097\n",
      "    radius (standard error):              0.112  2.873\n",
      "    texture (standard error):             0.36   4.885\n",
      "    perimeter (standard error):           0.757  21.98\n",
      "    area (standard error):                6.802  542.2\n",
      "    smoothness (standard error):          0.002  0.031\n",
      "    compactness (standard error):         0.002  0.135\n",
      "    concavity (standard error):           0.0    0.396\n",
      "    concave points (standard error):      0.0    0.053\n",
      "    symmetry (standard error):            0.008  0.079\n",
      "    fractal dimension (standard error):   0.001  0.03\n",
      "    radius (worst):                       7.93   36.04\n",
      "    texture (worst):                      12.02  49.54\n",
      "    perimeter (worst):                    50.41  251.2\n",
      "    area (worst):                         185.2  4254.0\n",
      "    smoothness (worst):                   0.071  0.223\n",
      "    compactness (worst):                  0.027  1.058\n",
      "    concavity (worst):                    0.0    1.252\n",
      "    concave points (worst):               0.0    0.291\n",
      "    symmetry (worst):                     0.156  0.664\n",
      "    fractal dimension (worst):            0.055  0.208\n",
      "    ===================================== ====== ======\n",
      "\n",
      "    :Missing Attribute Values: None\n",
      "\n",
      "    :Class Distribution: 212 - Malignant, 357 - Benign\n",
      "\n",
      "    :Creator:  Dr. William H. Wolberg, W. Nick Street, Olvi L. Mangasarian\n",
      "\n",
      "    :Donor: Nick Street\n",
      "\n",
      "    :Date: November, 1995\n",
      "\n",
      "This is a copy of UCI ML Breast Cancer Wisconsin (Diagnostic) datasets.\n",
      "https://goo.gl/U2Uwz2\n",
      "\n",
      "Features are computed from a digitized image of a fine needle\n",
      "aspirate (FNA) of a breast mass.  They describe\n",
      "characteristics of the cell nuclei present in the image.\n",
      "\n",
      "Separating plane described above was obtained using\n",
      "Multisurface Method-Tree (MSM-T) [K. P. Bennett, \"Decision Tree\n",
      "Construction Via Linear Programming.\" Proceedings of the 4th\n",
      "Midwest Artificial Intelligence and Cognitive Science Society,\n",
      "pp. 97-101, 1992], a classification method which uses linear\n",
      "programming to construct a decision tree.  Relevant features\n",
      "were selected using an exhaustive search in the space of 1-4\n",
      "features and 1-3 separating planes.\n",
      "\n",
      "The actual linear program used to obtain the separating plane\n",
      "in the 3-dimensional space is that described in:\n",
      "[K. P. Bennett and O. L. Mangasarian: \"Robust Linear\n",
      "Programming Discrimination of Two Linearly Inseparable Sets\",\n",
      "Optimization Methods and Software 1, 1992, 23-34].\n",
      "\n",
      "This database is also available through the UW CS ftp server:\n",
      "\n",
      "ftp ftp.cs.wisc.edu\n",
      "cd math-prog/cpo-dataset/machine-learn/WDBC/\n",
      "\n",
      ".. topic:: References\n",
      "\n",
      "   - W.N. Street, W.H. Wolberg and O.L. Mangasarian. Nuclear feature extraction \n",
      "     for breast tumor diagnosis. IS&T/SPIE 1993 International Symposium on \n",
      "     Electronic Imaging: Science and Technology, volume 1905, pages 861-870,\n",
      "     San Jose, CA, 1993.\n",
      "   - O.L. Mangasarian, W.N. Street and W.H. Wolberg. Breast cancer diagnosis and \n",
      "     prognosis via linear programming. Operations Research, 43(4), pages 570-577, \n",
      "     July-August 1995.\n",
      "   - W.H. Wolberg, W.N. Street, and O.L. Mangasarian. Machine learning techniques\n",
      "     to diagnose breast cancer from fine-needle aspirates. Cancer Letters 77 (1994) \n",
      "     163-171.\n"
     ]
    }
   ],
   "source": [
    "from sklearn.datasets import load_breast_cancer\n",
    "breast_cancer = load_breast_cancer()\n",
    "print(breast_cancer.DESCR)"
   ]
  },
  {
   "cell_type": "code",
   "execution_count": 4,
   "metadata": {},
   "outputs": [],
   "source": [
    "# 독립변수와 종속변수 분리\n",
    "X = pd.DataFrame(breast_cancer.data, columns = breast_cancer.feature_names)\n",
    "Y = pd.DataFrame(breast_cancer.target, columns = ['target'])"
   ]
  },
  {
   "cell_type": "code",
   "execution_count": 5,
   "metadata": {},
   "outputs": [
    {
     "data": {
      "text/html": [
       "<div>\n",
       "<style scoped>\n",
       "    .dataframe tbody tr th:only-of-type {\n",
       "        vertical-align: middle;\n",
       "    }\n",
       "\n",
       "    .dataframe tbody tr th {\n",
       "        vertical-align: top;\n",
       "    }\n",
       "\n",
       "    .dataframe thead th {\n",
       "        text-align: right;\n",
       "    }\n",
       "</style>\n",
       "<table border=\"1\" class=\"dataframe\">\n",
       "  <thead>\n",
       "    <tr style=\"text-align: right;\">\n",
       "      <th></th>\n",
       "      <th>mean radius</th>\n",
       "      <th>mean texture</th>\n",
       "      <th>mean perimeter</th>\n",
       "      <th>mean area</th>\n",
       "      <th>mean smoothness</th>\n",
       "      <th>mean compactness</th>\n",
       "      <th>mean concavity</th>\n",
       "      <th>mean concave points</th>\n",
       "      <th>mean symmetry</th>\n",
       "      <th>mean fractal dimension</th>\n",
       "      <th>...</th>\n",
       "      <th>worst radius</th>\n",
       "      <th>worst texture</th>\n",
       "      <th>worst perimeter</th>\n",
       "      <th>worst area</th>\n",
       "      <th>worst smoothness</th>\n",
       "      <th>worst compactness</th>\n",
       "      <th>worst concavity</th>\n",
       "      <th>worst concave points</th>\n",
       "      <th>worst symmetry</th>\n",
       "      <th>worst fractal dimension</th>\n",
       "    </tr>\n",
       "  </thead>\n",
       "  <tbody>\n",
       "    <tr>\n",
       "      <th>0</th>\n",
       "      <td>17.99</td>\n",
       "      <td>10.38</td>\n",
       "      <td>122.80</td>\n",
       "      <td>1001.0</td>\n",
       "      <td>0.11840</td>\n",
       "      <td>0.27760</td>\n",
       "      <td>0.3001</td>\n",
       "      <td>0.14710</td>\n",
       "      <td>0.2419</td>\n",
       "      <td>0.07871</td>\n",
       "      <td>...</td>\n",
       "      <td>25.38</td>\n",
       "      <td>17.33</td>\n",
       "      <td>184.60</td>\n",
       "      <td>2019.0</td>\n",
       "      <td>0.1622</td>\n",
       "      <td>0.6656</td>\n",
       "      <td>0.7119</td>\n",
       "      <td>0.2654</td>\n",
       "      <td>0.4601</td>\n",
       "      <td>0.11890</td>\n",
       "    </tr>\n",
       "    <tr>\n",
       "      <th>1</th>\n",
       "      <td>20.57</td>\n",
       "      <td>17.77</td>\n",
       "      <td>132.90</td>\n",
       "      <td>1326.0</td>\n",
       "      <td>0.08474</td>\n",
       "      <td>0.07864</td>\n",
       "      <td>0.0869</td>\n",
       "      <td>0.07017</td>\n",
       "      <td>0.1812</td>\n",
       "      <td>0.05667</td>\n",
       "      <td>...</td>\n",
       "      <td>24.99</td>\n",
       "      <td>23.41</td>\n",
       "      <td>158.80</td>\n",
       "      <td>1956.0</td>\n",
       "      <td>0.1238</td>\n",
       "      <td>0.1866</td>\n",
       "      <td>0.2416</td>\n",
       "      <td>0.1860</td>\n",
       "      <td>0.2750</td>\n",
       "      <td>0.08902</td>\n",
       "    </tr>\n",
       "    <tr>\n",
       "      <th>2</th>\n",
       "      <td>19.69</td>\n",
       "      <td>21.25</td>\n",
       "      <td>130.00</td>\n",
       "      <td>1203.0</td>\n",
       "      <td>0.10960</td>\n",
       "      <td>0.15990</td>\n",
       "      <td>0.1974</td>\n",
       "      <td>0.12790</td>\n",
       "      <td>0.2069</td>\n",
       "      <td>0.05999</td>\n",
       "      <td>...</td>\n",
       "      <td>23.57</td>\n",
       "      <td>25.53</td>\n",
       "      <td>152.50</td>\n",
       "      <td>1709.0</td>\n",
       "      <td>0.1444</td>\n",
       "      <td>0.4245</td>\n",
       "      <td>0.4504</td>\n",
       "      <td>0.2430</td>\n",
       "      <td>0.3613</td>\n",
       "      <td>0.08758</td>\n",
       "    </tr>\n",
       "    <tr>\n",
       "      <th>3</th>\n",
       "      <td>11.42</td>\n",
       "      <td>20.38</td>\n",
       "      <td>77.58</td>\n",
       "      <td>386.1</td>\n",
       "      <td>0.14250</td>\n",
       "      <td>0.28390</td>\n",
       "      <td>0.2414</td>\n",
       "      <td>0.10520</td>\n",
       "      <td>0.2597</td>\n",
       "      <td>0.09744</td>\n",
       "      <td>...</td>\n",
       "      <td>14.91</td>\n",
       "      <td>26.50</td>\n",
       "      <td>98.87</td>\n",
       "      <td>567.7</td>\n",
       "      <td>0.2098</td>\n",
       "      <td>0.8663</td>\n",
       "      <td>0.6869</td>\n",
       "      <td>0.2575</td>\n",
       "      <td>0.6638</td>\n",
       "      <td>0.17300</td>\n",
       "    </tr>\n",
       "    <tr>\n",
       "      <th>4</th>\n",
       "      <td>20.29</td>\n",
       "      <td>14.34</td>\n",
       "      <td>135.10</td>\n",
       "      <td>1297.0</td>\n",
       "      <td>0.10030</td>\n",
       "      <td>0.13280</td>\n",
       "      <td>0.1980</td>\n",
       "      <td>0.10430</td>\n",
       "      <td>0.1809</td>\n",
       "      <td>0.05883</td>\n",
       "      <td>...</td>\n",
       "      <td>22.54</td>\n",
       "      <td>16.67</td>\n",
       "      <td>152.20</td>\n",
       "      <td>1575.0</td>\n",
       "      <td>0.1374</td>\n",
       "      <td>0.2050</td>\n",
       "      <td>0.4000</td>\n",
       "      <td>0.1625</td>\n",
       "      <td>0.2364</td>\n",
       "      <td>0.07678</td>\n",
       "    </tr>\n",
       "  </tbody>\n",
       "</table>\n",
       "<p>5 rows × 30 columns</p>\n",
       "</div>"
      ],
      "text/plain": [
       "   mean radius  mean texture  mean perimeter  mean area  mean smoothness  \\\n",
       "0        17.99         10.38          122.80     1001.0          0.11840   \n",
       "1        20.57         17.77          132.90     1326.0          0.08474   \n",
       "2        19.69         21.25          130.00     1203.0          0.10960   \n",
       "3        11.42         20.38           77.58      386.1          0.14250   \n",
       "4        20.29         14.34          135.10     1297.0          0.10030   \n",
       "\n",
       "   mean compactness  mean concavity  mean concave points  mean symmetry  \\\n",
       "0           0.27760          0.3001              0.14710         0.2419   \n",
       "1           0.07864          0.0869              0.07017         0.1812   \n",
       "2           0.15990          0.1974              0.12790         0.2069   \n",
       "3           0.28390          0.2414              0.10520         0.2597   \n",
       "4           0.13280          0.1980              0.10430         0.1809   \n",
       "\n",
       "   mean fractal dimension  ...  worst radius  worst texture  worst perimeter  \\\n",
       "0                 0.07871  ...         25.38          17.33           184.60   \n",
       "1                 0.05667  ...         24.99          23.41           158.80   \n",
       "2                 0.05999  ...         23.57          25.53           152.50   \n",
       "3                 0.09744  ...         14.91          26.50            98.87   \n",
       "4                 0.05883  ...         22.54          16.67           152.20   \n",
       "\n",
       "   worst area  worst smoothness  worst compactness  worst concavity  \\\n",
       "0      2019.0            0.1622             0.6656           0.7119   \n",
       "1      1956.0            0.1238             0.1866           0.2416   \n",
       "2      1709.0            0.1444             0.4245           0.4504   \n",
       "3       567.7            0.2098             0.8663           0.6869   \n",
       "4      1575.0            0.1374             0.2050           0.4000   \n",
       "\n",
       "   worst concave points  worst symmetry  worst fractal dimension  \n",
       "0                0.2654          0.4601                  0.11890  \n",
       "1                0.1860          0.2750                  0.08902  \n",
       "2                0.2430          0.3613                  0.08758  \n",
       "3                0.2575          0.6638                  0.17300  \n",
       "4                0.1625          0.2364                  0.07678  \n",
       "\n",
       "[5 rows x 30 columns]"
      ]
     },
     "execution_count": 5,
     "metadata": {},
     "output_type": "execute_result"
    }
   ],
   "source": [
    "X.head()"
   ]
  },
  {
   "cell_type": "code",
   "execution_count": 6,
   "metadata": {},
   "outputs": [
    {
     "data": {
      "text/plain": [
       "(569, 30)"
      ]
     },
     "execution_count": 6,
     "metadata": {},
     "output_type": "execute_result"
    }
   ],
   "source": [
    "X.shape"
   ]
  },
  {
   "cell_type": "code",
   "execution_count": 7,
   "metadata": {},
   "outputs": [],
   "source": [
    "import statsmodels.api as sm"
   ]
  },
  {
   "cell_type": "code",
   "execution_count": 8,
   "metadata": {},
   "outputs": [],
   "source": [
    "# intercept 추가\n",
    "X = sm.add_constant(X, has_constant = 'add')"
   ]
  },
  {
   "cell_type": "code",
   "execution_count": 9,
   "metadata": {},
   "outputs": [
    {
     "data": {
      "text/html": [
       "<div>\n",
       "<style scoped>\n",
       "    .dataframe tbody tr th:only-of-type {\n",
       "        vertical-align: middle;\n",
       "    }\n",
       "\n",
       "    .dataframe tbody tr th {\n",
       "        vertical-align: top;\n",
       "    }\n",
       "\n",
       "    .dataframe thead th {\n",
       "        text-align: right;\n",
       "    }\n",
       "</style>\n",
       "<table border=\"1\" class=\"dataframe\">\n",
       "  <thead>\n",
       "    <tr style=\"text-align: right;\">\n",
       "      <th></th>\n",
       "      <th>const</th>\n",
       "      <th>mean radius</th>\n",
       "      <th>mean texture</th>\n",
       "      <th>mean perimeter</th>\n",
       "      <th>mean area</th>\n",
       "      <th>mean smoothness</th>\n",
       "      <th>mean compactness</th>\n",
       "      <th>mean concavity</th>\n",
       "      <th>mean concave points</th>\n",
       "      <th>mean symmetry</th>\n",
       "      <th>...</th>\n",
       "      <th>worst radius</th>\n",
       "      <th>worst texture</th>\n",
       "      <th>worst perimeter</th>\n",
       "      <th>worst area</th>\n",
       "      <th>worst smoothness</th>\n",
       "      <th>worst compactness</th>\n",
       "      <th>worst concavity</th>\n",
       "      <th>worst concave points</th>\n",
       "      <th>worst symmetry</th>\n",
       "      <th>worst fractal dimension</th>\n",
       "    </tr>\n",
       "  </thead>\n",
       "  <tbody>\n",
       "    <tr>\n",
       "      <th>0</th>\n",
       "      <td>1.0</td>\n",
       "      <td>17.99</td>\n",
       "      <td>10.38</td>\n",
       "      <td>122.80</td>\n",
       "      <td>1001.0</td>\n",
       "      <td>0.11840</td>\n",
       "      <td>0.27760</td>\n",
       "      <td>0.3001</td>\n",
       "      <td>0.14710</td>\n",
       "      <td>0.2419</td>\n",
       "      <td>...</td>\n",
       "      <td>25.38</td>\n",
       "      <td>17.33</td>\n",
       "      <td>184.60</td>\n",
       "      <td>2019.0</td>\n",
       "      <td>0.1622</td>\n",
       "      <td>0.6656</td>\n",
       "      <td>0.7119</td>\n",
       "      <td>0.2654</td>\n",
       "      <td>0.4601</td>\n",
       "      <td>0.11890</td>\n",
       "    </tr>\n",
       "    <tr>\n",
       "      <th>1</th>\n",
       "      <td>1.0</td>\n",
       "      <td>20.57</td>\n",
       "      <td>17.77</td>\n",
       "      <td>132.90</td>\n",
       "      <td>1326.0</td>\n",
       "      <td>0.08474</td>\n",
       "      <td>0.07864</td>\n",
       "      <td>0.0869</td>\n",
       "      <td>0.07017</td>\n",
       "      <td>0.1812</td>\n",
       "      <td>...</td>\n",
       "      <td>24.99</td>\n",
       "      <td>23.41</td>\n",
       "      <td>158.80</td>\n",
       "      <td>1956.0</td>\n",
       "      <td>0.1238</td>\n",
       "      <td>0.1866</td>\n",
       "      <td>0.2416</td>\n",
       "      <td>0.1860</td>\n",
       "      <td>0.2750</td>\n",
       "      <td>0.08902</td>\n",
       "    </tr>\n",
       "    <tr>\n",
       "      <th>2</th>\n",
       "      <td>1.0</td>\n",
       "      <td>19.69</td>\n",
       "      <td>21.25</td>\n",
       "      <td>130.00</td>\n",
       "      <td>1203.0</td>\n",
       "      <td>0.10960</td>\n",
       "      <td>0.15990</td>\n",
       "      <td>0.1974</td>\n",
       "      <td>0.12790</td>\n",
       "      <td>0.2069</td>\n",
       "      <td>...</td>\n",
       "      <td>23.57</td>\n",
       "      <td>25.53</td>\n",
       "      <td>152.50</td>\n",
       "      <td>1709.0</td>\n",
       "      <td>0.1444</td>\n",
       "      <td>0.4245</td>\n",
       "      <td>0.4504</td>\n",
       "      <td>0.2430</td>\n",
       "      <td>0.3613</td>\n",
       "      <td>0.08758</td>\n",
       "    </tr>\n",
       "    <tr>\n",
       "      <th>3</th>\n",
       "      <td>1.0</td>\n",
       "      <td>11.42</td>\n",
       "      <td>20.38</td>\n",
       "      <td>77.58</td>\n",
       "      <td>386.1</td>\n",
       "      <td>0.14250</td>\n",
       "      <td>0.28390</td>\n",
       "      <td>0.2414</td>\n",
       "      <td>0.10520</td>\n",
       "      <td>0.2597</td>\n",
       "      <td>...</td>\n",
       "      <td>14.91</td>\n",
       "      <td>26.50</td>\n",
       "      <td>98.87</td>\n",
       "      <td>567.7</td>\n",
       "      <td>0.2098</td>\n",
       "      <td>0.8663</td>\n",
       "      <td>0.6869</td>\n",
       "      <td>0.2575</td>\n",
       "      <td>0.6638</td>\n",
       "      <td>0.17300</td>\n",
       "    </tr>\n",
       "    <tr>\n",
       "      <th>4</th>\n",
       "      <td>1.0</td>\n",
       "      <td>20.29</td>\n",
       "      <td>14.34</td>\n",
       "      <td>135.10</td>\n",
       "      <td>1297.0</td>\n",
       "      <td>0.10030</td>\n",
       "      <td>0.13280</td>\n",
       "      <td>0.1980</td>\n",
       "      <td>0.10430</td>\n",
       "      <td>0.1809</td>\n",
       "      <td>...</td>\n",
       "      <td>22.54</td>\n",
       "      <td>16.67</td>\n",
       "      <td>152.20</td>\n",
       "      <td>1575.0</td>\n",
       "      <td>0.1374</td>\n",
       "      <td>0.2050</td>\n",
       "      <td>0.4000</td>\n",
       "      <td>0.1625</td>\n",
       "      <td>0.2364</td>\n",
       "      <td>0.07678</td>\n",
       "    </tr>\n",
       "  </tbody>\n",
       "</table>\n",
       "<p>5 rows × 31 columns</p>\n",
       "</div>"
      ],
      "text/plain": [
       "   const  mean radius  mean texture  mean perimeter  mean area  \\\n",
       "0    1.0        17.99         10.38          122.80     1001.0   \n",
       "1    1.0        20.57         17.77          132.90     1326.0   \n",
       "2    1.0        19.69         21.25          130.00     1203.0   \n",
       "3    1.0        11.42         20.38           77.58      386.1   \n",
       "4    1.0        20.29         14.34          135.10     1297.0   \n",
       "\n",
       "   mean smoothness  mean compactness  mean concavity  mean concave points  \\\n",
       "0          0.11840           0.27760          0.3001              0.14710   \n",
       "1          0.08474           0.07864          0.0869              0.07017   \n",
       "2          0.10960           0.15990          0.1974              0.12790   \n",
       "3          0.14250           0.28390          0.2414              0.10520   \n",
       "4          0.10030           0.13280          0.1980              0.10430   \n",
       "\n",
       "   mean symmetry  ...  worst radius  worst texture  worst perimeter  \\\n",
       "0         0.2419  ...         25.38          17.33           184.60   \n",
       "1         0.1812  ...         24.99          23.41           158.80   \n",
       "2         0.2069  ...         23.57          25.53           152.50   \n",
       "3         0.2597  ...         14.91          26.50            98.87   \n",
       "4         0.1809  ...         22.54          16.67           152.20   \n",
       "\n",
       "   worst area  worst smoothness  worst compactness  worst concavity  \\\n",
       "0      2019.0            0.1622             0.6656           0.7119   \n",
       "1      1956.0            0.1238             0.1866           0.2416   \n",
       "2      1709.0            0.1444             0.4245           0.4504   \n",
       "3       567.7            0.2098             0.8663           0.6869   \n",
       "4      1575.0            0.1374             0.2050           0.4000   \n",
       "\n",
       "   worst concave points  worst symmetry  worst fractal dimension  \n",
       "0                0.2654          0.4601                  0.11890  \n",
       "1                0.1860          0.2750                  0.08902  \n",
       "2                0.2430          0.3613                  0.08758  \n",
       "3                0.2575          0.6638                  0.17300  \n",
       "4                0.1625          0.2364                  0.07678  \n",
       "\n",
       "[5 rows x 31 columns]"
      ]
     },
     "execution_count": 9,
     "metadata": {},
     "output_type": "execute_result"
    }
   ],
   "source": [
    "X.head()"
   ]
  },
  {
   "cell_type": "code",
   "execution_count": 10,
   "metadata": {},
   "outputs": [
    {
     "data": {
      "text/html": [
       "<div>\n",
       "<style scoped>\n",
       "    .dataframe tbody tr th:only-of-type {\n",
       "        vertical-align: middle;\n",
       "    }\n",
       "\n",
       "    .dataframe tbody tr th {\n",
       "        vertical-align: top;\n",
       "    }\n",
       "\n",
       "    .dataframe thead th {\n",
       "        text-align: right;\n",
       "    }\n",
       "</style>\n",
       "<table border=\"1\" class=\"dataframe\">\n",
       "  <thead>\n",
       "    <tr style=\"text-align: right;\">\n",
       "      <th></th>\n",
       "      <th>target</th>\n",
       "    </tr>\n",
       "  </thead>\n",
       "  <tbody>\n",
       "    <tr>\n",
       "      <th>564</th>\n",
       "      <td>0</td>\n",
       "    </tr>\n",
       "    <tr>\n",
       "      <th>565</th>\n",
       "      <td>0</td>\n",
       "    </tr>\n",
       "    <tr>\n",
       "      <th>566</th>\n",
       "      <td>0</td>\n",
       "    </tr>\n",
       "    <tr>\n",
       "      <th>567</th>\n",
       "      <td>0</td>\n",
       "    </tr>\n",
       "    <tr>\n",
       "      <th>568</th>\n",
       "      <td>1</td>\n",
       "    </tr>\n",
       "  </tbody>\n",
       "</table>\n",
       "</div>"
      ],
      "text/plain": [
       "     target\n",
       "564       0\n",
       "565       0\n",
       "566       0\n",
       "567       0\n",
       "568       1"
      ]
     },
     "execution_count": 10,
     "metadata": {},
     "output_type": "execute_result"
    }
   ],
   "source": [
    "Y.tail()"
   ]
  },
  {
   "cell_type": "code",
   "execution_count": 11,
   "metadata": {},
   "outputs": [
    {
     "data": {
      "text/plain": [
       "(569, 1)"
      ]
     },
     "execution_count": 11,
     "metadata": {},
     "output_type": "execute_result"
    }
   ],
   "source": [
    "Y.shape"
   ]
  },
  {
   "cell_type": "code",
   "execution_count": 12,
   "metadata": {},
   "outputs": [],
   "source": [
    "from sklearn.model_selection import train_test_split"
   ]
  },
  {
   "cell_type": "code",
   "execution_count": 13,
   "metadata": {},
   "outputs": [
    {
     "name": "stdout",
     "output_type": "stream",
     "text": [
      "(398, 31) (171, 31) (398, 1) (171, 1)\n"
     ]
    }
   ],
   "source": [
    "# 학습 데이터, 테스트 데이터 분리\n",
    "X_train, X_test, Y_train, Y_test = train_test_split(X, Y, train_size = 0.7, test_size = 0.3, random_state = 1234, stratify = Y)\n",
    "print(X_train.shape, X_test.shape, Y_train.shape, Y_test.shape)"
   ]
  },
  {
   "cell_type": "code",
   "execution_count": 14,
   "metadata": {},
   "outputs": [
    {
     "name": "stdout",
     "output_type": "stream",
     "text": [
      "Warning: Maximum number of iterations has been exceeded.\n"
     ]
    },
    {
     "name": "stderr",
     "output_type": "stream",
     "text": [
      "C:\\ProgramData\\Anaconda3\\lib\\site-packages\\statsmodels\\base\\model.py:568: ConvergenceWarning: Maximum Likelihood optimization failed to converge. Check mle_retvals\n",
      "  \"Check mle_retvals\", ConvergenceWarning)\n"
     ]
    }
   ],
   "source": [
    "# 로지스틱 회귀 모델 생성\n",
    "logit_m = sm.Logit(Y_train, X_train)\n",
    "logit_m_train = logit_m.fit(method = 'powell') #powell, og, bfgs, lbgfs"
   ]
  },
  {
   "cell_type": "code",
   "execution_count": 15,
   "metadata": {},
   "outputs": [
    {
     "data": {
      "text/html": [
       "<table class=\"simpletable\">\n",
       "<caption>Logit Regression Results</caption>\n",
       "<tr>\n",
       "  <th>Dep. Variable:</th>        <td>target</td>      <th>  No. Observations:  </th>  <td>   398</td>  \n",
       "</tr>\n",
       "<tr>\n",
       "  <th>Model:</th>                 <td>Logit</td>      <th>  Df Residuals:      </th>  <td>   367</td>  \n",
       "</tr>\n",
       "<tr>\n",
       "  <th>Method:</th>                 <td>MLE</td>       <th>  Df Model:          </th>  <td>    30</td>  \n",
       "</tr>\n",
       "<tr>\n",
       "  <th>Date:</th>            <td>Thu, 14 Oct 2021</td> <th>  Pseudo R-squ.:     </th>  <td>0.9327</td>  \n",
       "</tr>\n",
       "<tr>\n",
       "  <th>Time:</th>                <td>10:10:32</td>     <th>  Log-Likelihood:    </th> <td> -17.677</td> \n",
       "</tr>\n",
       "<tr>\n",
       "  <th>converged:</th>             <td>False</td>      <th>  LL-Null:           </th> <td> -262.66</td> \n",
       "</tr>\n",
       "<tr>\n",
       "  <th>Covariance Type:</th>     <td>nonrobust</td>    <th>  LLR p-value:       </th> <td>1.381e-84</td>\n",
       "</tr>\n",
       "</table>\n",
       "<table class=\"simpletable\">\n",
       "<tr>\n",
       "             <td></td>                <th>coef</th>     <th>std err</th>      <th>z</th>      <th>P>|z|</th>  <th>[0.025</th>    <th>0.975]</th>  \n",
       "</tr>\n",
       "<tr>\n",
       "  <th>const</th>                   <td>    7.7081</td> <td>   54.480</td> <td>    0.141</td> <td> 0.887</td> <td>  -99.070</td> <td>  114.487</td>\n",
       "</tr>\n",
       "<tr>\n",
       "  <th>mean radius</th>             <td>    0.7912</td> <td>   18.273</td> <td>    0.043</td> <td> 0.965</td> <td>  -35.023</td> <td>   36.606</td>\n",
       "</tr>\n",
       "<tr>\n",
       "  <th>mean texture</th>            <td>    0.0261</td> <td>    0.487</td> <td>    0.054</td> <td> 0.957</td> <td>   -0.929</td> <td>    0.981</td>\n",
       "</tr>\n",
       "<tr>\n",
       "  <th>mean perimeter</th>          <td>    0.1990</td> <td>    2.787</td> <td>    0.071</td> <td> 0.943</td> <td>   -5.264</td> <td>    5.662</td>\n",
       "</tr>\n",
       "<tr>\n",
       "  <th>mean area</th>               <td>    0.0004</td> <td>    0.085</td> <td>    0.005</td> <td> 0.996</td> <td>   -0.167</td> <td>    0.167</td>\n",
       "</tr>\n",
       "<tr>\n",
       "  <th>mean smoothness</th>         <td> -127.5250</td> <td>  211.596</td> <td>   -0.603</td> <td> 0.547</td> <td> -542.245</td> <td>  287.195</td>\n",
       "</tr>\n",
       "<tr>\n",
       "  <th>mean compactness</th>        <td>   76.8910</td> <td>  143.641</td> <td>    0.535</td> <td> 0.592</td> <td> -204.639</td> <td>  358.421</td>\n",
       "</tr>\n",
       "<tr>\n",
       "  <th>mean concavity</th>          <td>  -93.5032</td> <td>  113.479</td> <td>   -0.824</td> <td> 0.410</td> <td> -315.918</td> <td>  128.912</td>\n",
       "</tr>\n",
       "<tr>\n",
       "  <th>mean concave points</th>     <td> -108.9617</td> <td>  187.018</td> <td>   -0.583</td> <td> 0.560</td> <td> -475.511</td> <td>  257.588</td>\n",
       "</tr>\n",
       "<tr>\n",
       "  <th>mean symmetry</th>           <td>  -22.6477</td> <td>   62.936</td> <td>   -0.360</td> <td> 0.719</td> <td> -146.000</td> <td>  100.704</td>\n",
       "</tr>\n",
       "<tr>\n",
       "  <th>mean fractal dimension</th>  <td>  177.7199</td> <td>  524.466</td> <td>    0.339</td> <td> 0.735</td> <td> -850.214</td> <td> 1205.654</td>\n",
       "</tr>\n",
       "<tr>\n",
       "  <th>radius error</th>            <td>   26.4757</td> <td>   83.270</td> <td>    0.318</td> <td> 0.751</td> <td> -136.730</td> <td>  189.682</td>\n",
       "</tr>\n",
       "<tr>\n",
       "  <th>texture error</th>           <td>    2.1404</td> <td>    3.416</td> <td>    0.627</td> <td> 0.531</td> <td>   -4.555</td> <td>    8.835</td>\n",
       "</tr>\n",
       "<tr>\n",
       "  <th>perimeter error</th>         <td>   -0.1968</td> <td>    5.863</td> <td>   -0.034</td> <td> 0.973</td> <td>  -11.688</td> <td>   11.295</td>\n",
       "</tr>\n",
       "<tr>\n",
       "  <th>area error</th>              <td>   -0.5250</td> <td>    0.727</td> <td>   -0.722</td> <td> 0.470</td> <td>   -1.950</td> <td>    0.900</td>\n",
       "</tr>\n",
       "<tr>\n",
       "  <th>smoothness error</th>        <td> -427.0441</td> <td>  679.255</td> <td>   -0.629</td> <td> 0.530</td> <td>-1758.359</td> <td>  904.271</td>\n",
       "</tr>\n",
       "<tr>\n",
       "  <th>compactness error</th>       <td>  110.0794</td> <td>  327.673</td> <td>    0.336</td> <td> 0.737</td> <td> -532.149</td> <td>  752.307</td>\n",
       "</tr>\n",
       "<tr>\n",
       "  <th>concavity error</th>         <td>   20.3282</td> <td>  133.504</td> <td>    0.152</td> <td> 0.879</td> <td> -241.334</td> <td>  281.990</td>\n",
       "</tr>\n",
       "<tr>\n",
       "  <th>concave points error</th>    <td>  335.9700</td> <td>  875.071</td> <td>    0.384</td> <td> 0.701</td> <td>-1379.138</td> <td> 2051.078</td>\n",
       "</tr>\n",
       "<tr>\n",
       "  <th>symmetry error</th>          <td>  198.5205</td> <td>  391.924</td> <td>    0.507</td> <td> 0.612</td> <td> -569.636</td> <td>  966.677</td>\n",
       "</tr>\n",
       "<tr>\n",
       "  <th>fractal dimension error</th> <td>  160.5365</td> <td> 1817.119</td> <td>    0.088</td> <td> 0.930</td> <td>-3400.952</td> <td> 3722.025</td>\n",
       "</tr>\n",
       "<tr>\n",
       "  <th>worst radius</th>            <td>   -0.5519</td> <td>    8.038</td> <td>   -0.069</td> <td> 0.945</td> <td>  -16.305</td> <td>   15.202</td>\n",
       "</tr>\n",
       "<tr>\n",
       "  <th>worst texture</th>           <td>   -0.5303</td> <td>    0.470</td> <td>   -1.127</td> <td> 0.260</td> <td>   -1.452</td> <td>    0.392</td>\n",
       "</tr>\n",
       "<tr>\n",
       "  <th>worst perimeter</th>         <td>    0.1487</td> <td>    0.837</td> <td>    0.178</td> <td> 0.859</td> <td>   -1.492</td> <td>    1.789</td>\n",
       "</tr>\n",
       "<tr>\n",
       "  <th>worst area</th>              <td>   -0.0181</td> <td>    0.075</td> <td>   -0.242</td> <td> 0.809</td> <td>   -0.165</td> <td>    0.129</td>\n",
       "</tr>\n",
       "<tr>\n",
       "  <th>worst smoothness</th>        <td>   50.2341</td> <td>  113.484</td> <td>    0.443</td> <td> 0.658</td> <td> -172.191</td> <td>  272.659</td>\n",
       "</tr>\n",
       "<tr>\n",
       "  <th>worst compactness</th>       <td>  -16.2358</td> <td>   59.278</td> <td>   -0.274</td> <td> 0.784</td> <td> -132.418</td> <td>   99.946</td>\n",
       "</tr>\n",
       "<tr>\n",
       "  <th>worst concavity</th>         <td>    1.4300</td> <td>   23.167</td> <td>    0.062</td> <td> 0.951</td> <td>  -43.976</td> <td>   46.836</td>\n",
       "</tr>\n",
       "<tr>\n",
       "  <th>worst concave points</th>    <td>  -48.0260</td> <td>  104.262</td> <td>   -0.461</td> <td> 0.645</td> <td> -252.375</td> <td>  156.323</td>\n",
       "</tr>\n",
       "<tr>\n",
       "  <th>worst symmetry</th>          <td>   -9.1960</td> <td>   56.139</td> <td>   -0.164</td> <td> 0.870</td> <td> -119.226</td> <td>  100.834</td>\n",
       "</tr>\n",
       "<tr>\n",
       "  <th>worst fractal dimension</th> <td>  -54.2219</td> <td>  250.897</td> <td>   -0.216</td> <td> 0.829</td> <td> -545.970</td> <td>  437.527</td>\n",
       "</tr>\n",
       "</table><br/><br/>Possibly complete quasi-separation: A fraction 0.66 of observations can be<br/>perfectly predicted. This might indicate that there is complete<br/>quasi-separation. In this case some parameters will not be identified."
      ],
      "text/plain": [
       "<class 'statsmodels.iolib.summary.Summary'>\n",
       "\"\"\"\n",
       "                           Logit Regression Results                           \n",
       "==============================================================================\n",
       "Dep. Variable:                 target   No. Observations:                  398\n",
       "Model:                          Logit   Df Residuals:                      367\n",
       "Method:                           MLE   Df Model:                           30\n",
       "Date:                Thu, 14 Oct 2021   Pseudo R-squ.:                  0.9327\n",
       "Time:                        10:10:32   Log-Likelihood:                -17.677\n",
       "converged:                      False   LL-Null:                       -262.66\n",
       "Covariance Type:            nonrobust   LLR p-value:                 1.381e-84\n",
       "===========================================================================================\n",
       "                              coef    std err          z      P>|z|      [0.025      0.975]\n",
       "-------------------------------------------------------------------------------------------\n",
       "const                       7.7081     54.480      0.141      0.887     -99.070     114.487\n",
       "mean radius                 0.7912     18.273      0.043      0.965     -35.023      36.606\n",
       "mean texture                0.0261      0.487      0.054      0.957      -0.929       0.981\n",
       "mean perimeter              0.1990      2.787      0.071      0.943      -5.264       5.662\n",
       "mean area                   0.0004      0.085      0.005      0.996      -0.167       0.167\n",
       "mean smoothness          -127.5250    211.596     -0.603      0.547    -542.245     287.195\n",
       "mean compactness           76.8910    143.641      0.535      0.592    -204.639     358.421\n",
       "mean concavity            -93.5032    113.479     -0.824      0.410    -315.918     128.912\n",
       "mean concave points      -108.9617    187.018     -0.583      0.560    -475.511     257.588\n",
       "mean symmetry             -22.6477     62.936     -0.360      0.719    -146.000     100.704\n",
       "mean fractal dimension    177.7199    524.466      0.339      0.735    -850.214    1205.654\n",
       "radius error               26.4757     83.270      0.318      0.751    -136.730     189.682\n",
       "texture error               2.1404      3.416      0.627      0.531      -4.555       8.835\n",
       "perimeter error            -0.1968      5.863     -0.034      0.973     -11.688      11.295\n",
       "area error                 -0.5250      0.727     -0.722      0.470      -1.950       0.900\n",
       "smoothness error         -427.0441    679.255     -0.629      0.530   -1758.359     904.271\n",
       "compactness error         110.0794    327.673      0.336      0.737    -532.149     752.307\n",
       "concavity error            20.3282    133.504      0.152      0.879    -241.334     281.990\n",
       "concave points error      335.9700    875.071      0.384      0.701   -1379.138    2051.078\n",
       "symmetry error            198.5205    391.924      0.507      0.612    -569.636     966.677\n",
       "fractal dimension error   160.5365   1817.119      0.088      0.930   -3400.952    3722.025\n",
       "worst radius               -0.5519      8.038     -0.069      0.945     -16.305      15.202\n",
       "worst texture              -0.5303      0.470     -1.127      0.260      -1.452       0.392\n",
       "worst perimeter             0.1487      0.837      0.178      0.859      -1.492       1.789\n",
       "worst area                 -0.0181      0.075     -0.242      0.809      -0.165       0.129\n",
       "worst smoothness           50.2341    113.484      0.443      0.658    -172.191     272.659\n",
       "worst compactness         -16.2358     59.278     -0.274      0.784    -132.418      99.946\n",
       "worst concavity             1.4300     23.167      0.062      0.951     -43.976      46.836\n",
       "worst concave points      -48.0260    104.262     -0.461      0.645    -252.375     156.323\n",
       "worst symmetry             -9.1960     56.139     -0.164      0.870    -119.226     100.834\n",
       "worst fractal dimension   -54.2219    250.897     -0.216      0.829    -545.970     437.527\n",
       "===========================================================================================\n",
       "\n",
       "Possibly complete quasi-separation: A fraction 0.66 of observations can be\n",
       "perfectly predicted. This might indicate that there is complete\n",
       "quasi-separation. In this case some parameters will not be identified.\n",
       "\"\"\""
      ]
     },
     "execution_count": 15,
     "metadata": {},
     "output_type": "execute_result"
    }
   ],
   "source": [
    "logit_m_train.summary()"
   ]
  },
  {
   "cell_type": "code",
   "execution_count": 16,
   "metadata": {},
   "outputs": [
    {
     "name": "stdout",
     "output_type": "stream",
     "text": [
      "61     9.999999e-01\n",
      "114    9.999604e-01\n",
      "489    9.558832e-01\n",
      "161    9.994769e-13\n",
      "128    9.961621e-01\n",
      "           ...     \n",
      "142    9.999985e-01\n",
      "356    9.999531e-01\n",
      "392    3.614221e-15\n",
      "464    9.957482e-01\n",
      "41     2.391947e-04\n",
      "Length: 171, dtype: float64\n"
     ]
    }
   ],
   "source": [
    "Y_predict = logit_m_train.predict(X_test)\n",
    "print(Y_predict)"
   ]
  },
  {
   "cell_type": "code",
   "execution_count": 17,
   "metadata": {},
   "outputs": [],
   "source": [
    "from sklearn import metrics\n",
    "from sklearn.metrics import confusion_matrix, accuracy_score, precision_score, recall_score, f1_score"
   ]
  },
  {
   "cell_type": "code",
   "execution_count": 18,
   "metadata": {},
   "outputs": [
    {
     "ename": "ValueError",
     "evalue": "Classification metrics can't handle a mix of binary and continuous targets",
     "output_type": "error",
     "traceback": [
      "\u001b[1;31m---------------------------------------------------------------------------\u001b[0m",
      "\u001b[1;31mValueError\u001b[0m                                Traceback (most recent call last)",
      "\u001b[1;32m<ipython-input-18-08566b74ce4d>\u001b[0m in \u001b[0;36m<module>\u001b[1;34m\u001b[0m\n\u001b[0;32m      1\u001b[0m \u001b[1;31m# 오차 행렬(confusion matrix)를 통해 예측 성능 확인\u001b[0m\u001b[1;33m\u001b[0m\u001b[1;33m\u001b[0m\u001b[1;33m\u001b[0m\u001b[0m\n\u001b[1;32m----> 2\u001b[1;33m \u001b[0mconfusion_matrix\u001b[0m\u001b[1;33m(\u001b[0m\u001b[0mY_test\u001b[0m\u001b[1;33m,\u001b[0m \u001b[0mY_predict\u001b[0m\u001b[1;33m)\u001b[0m\u001b[1;33m\u001b[0m\u001b[1;33m\u001b[0m\u001b[0m\n\u001b[0m",
      "\u001b[1;32mC:\\ProgramData\\Anaconda3\\lib\\site-packages\\sklearn\\metrics\\_classification.py\u001b[0m in \u001b[0;36mconfusion_matrix\u001b[1;34m(y_true, y_pred, labels, sample_weight, normalize)\u001b[0m\n\u001b[0;32m    266\u001b[0m \u001b[1;33m\u001b[0m\u001b[0m\n\u001b[0;32m    267\u001b[0m     \"\"\"\n\u001b[1;32m--> 268\u001b[1;33m     \u001b[0my_type\u001b[0m\u001b[1;33m,\u001b[0m \u001b[0my_true\u001b[0m\u001b[1;33m,\u001b[0m \u001b[0my_pred\u001b[0m \u001b[1;33m=\u001b[0m \u001b[0m_check_targets\u001b[0m\u001b[1;33m(\u001b[0m\u001b[0my_true\u001b[0m\u001b[1;33m,\u001b[0m \u001b[0my_pred\u001b[0m\u001b[1;33m)\u001b[0m\u001b[1;33m\u001b[0m\u001b[1;33m\u001b[0m\u001b[0m\n\u001b[0m\u001b[0;32m    269\u001b[0m     \u001b[1;32mif\u001b[0m \u001b[0my_type\u001b[0m \u001b[1;32mnot\u001b[0m \u001b[1;32min\u001b[0m \u001b[1;33m(\u001b[0m\u001b[1;34m\"binary\"\u001b[0m\u001b[1;33m,\u001b[0m \u001b[1;34m\"multiclass\"\u001b[0m\u001b[1;33m)\u001b[0m\u001b[1;33m:\u001b[0m\u001b[1;33m\u001b[0m\u001b[1;33m\u001b[0m\u001b[0m\n\u001b[0;32m    270\u001b[0m         \u001b[1;32mraise\u001b[0m \u001b[0mValueError\u001b[0m\u001b[1;33m(\u001b[0m\u001b[1;34m\"%s is not supported\"\u001b[0m \u001b[1;33m%\u001b[0m \u001b[0my_type\u001b[0m\u001b[1;33m)\u001b[0m\u001b[1;33m\u001b[0m\u001b[1;33m\u001b[0m\u001b[0m\n",
      "\u001b[1;32mC:\\ProgramData\\Anaconda3\\lib\\site-packages\\sklearn\\metrics\\_classification.py\u001b[0m in \u001b[0;36m_check_targets\u001b[1;34m(y_true, y_pred)\u001b[0m\n\u001b[0;32m     88\u001b[0m     \u001b[1;32mif\u001b[0m \u001b[0mlen\u001b[0m\u001b[1;33m(\u001b[0m\u001b[0my_type\u001b[0m\u001b[1;33m)\u001b[0m \u001b[1;33m>\u001b[0m \u001b[1;36m1\u001b[0m\u001b[1;33m:\u001b[0m\u001b[1;33m\u001b[0m\u001b[1;33m\u001b[0m\u001b[0m\n\u001b[0;32m     89\u001b[0m         raise ValueError(\"Classification metrics can't handle a mix of {0} \"\n\u001b[1;32m---> 90\u001b[1;33m                          \"and {1} targets\".format(type_true, type_pred))\n\u001b[0m\u001b[0;32m     91\u001b[0m \u001b[1;33m\u001b[0m\u001b[0m\n\u001b[0;32m     92\u001b[0m     \u001b[1;31m# We can't have more than one value on y_type => The set is no more needed\u001b[0m\u001b[1;33m\u001b[0m\u001b[1;33m\u001b[0m\u001b[1;33m\u001b[0m\u001b[0m\n",
      "\u001b[1;31mValueError\u001b[0m: Classification metrics can't handle a mix of binary and continuous targets"
     ]
    }
   ],
   "source": [
    "# 오차 행렬(confusion matrix)를 통해 예측 성능 확인\n",
    "confusion_matrix(Y_test, Y_predict)"
   ]
  },
  {
   "cell_type": "markdown",
   "metadata": {},
   "source": [
    "오류가 발생한다. 무엇이 문제일까? 실제 종속변수의 값(Y_test)은 0, 1로 이루어진 반면 예측된 종속변수의 값(Y_predict)은 0.97, 0.52, 0.04과 같은 0과 1에 사이의 값들로 되어있다. 즉, 각 관측대상의 예측이 확률로 되어있는 것이다.(연속형) 이를 0과 1로 판단해 나눠줘야 하는데 이 때 기준값을 주어야 하며 이를 threshold라고 한다."
   ]
  },
  {
   "cell_type": "code",
   "execution_count": 19,
   "metadata": {},
   "outputs": [],
   "source": [
    "# Y_predict를 threshold를 기준으로 0과 1로 나누어주는 함수 생성\n",
    "def cut_off(y, threshold):\n",
    "    Y = y.copy() # copy 함수를 사용하여 이전의 y 값이 변화하지 않게 함\n",
    "    Y[Y > threshold] = 1\n",
    "    Y[Y <= threshold] = 0\n",
    "    return (Y.astype(int))"
   ]
  },
  {
   "cell_type": "code",
   "execution_count": 20,
   "metadata": {},
   "outputs": [
    {
     "data": {
      "text/plain": [
       "61     1\n",
       "114    1\n",
       "489    1\n",
       "161    0\n",
       "128    1\n",
       "dtype: int32"
      ]
     },
     "execution_count": 20,
     "metadata": {},
     "output_type": "execute_result"
    }
   ],
   "source": [
    "Y_predict_t = cut_off(Y_predict, 0.5)\n",
    "Y_predict_t.head()"
   ]
  },
  {
   "cell_type": "code",
   "execution_count": 21,
   "metadata": {},
   "outputs": [
    {
     "data": {
      "text/plain": [
       "array([[ 62,   2],\n",
       "       [  2, 105]], dtype=int64)"
      ]
     },
     "execution_count": 21,
     "metadata": {},
     "output_type": "execute_result"
    }
   ],
   "source": [
    "# 오차 행렬(confusion matrix)를 통해 예측 성능 확인\n",
    "confusion_matrix(Y_test, Y_predict_t)"
   ]
  },
  {
   "cell_type": "code",
   "execution_count": 22,
   "metadata": {},
   "outputs": [
    {
     "name": "stdout",
     "output_type": "stream",
     "text": [
      "Accuracy: 0.977\n",
      "Precision: 0.981\n",
      "Recall: 0.981\n",
      "F1: 0.981\n"
     ]
    }
   ],
   "source": [
    "accuracy = accuracy_score(Y_test, Y_predict_t)\n",
    "precision = precision_score(Y_test, Y_predict_t)\n",
    "recall = recall_score(Y_test, Y_predict_t)\n",
    "f1 = f1_score(Y_test, Y_predict_t)\n",
    "\n",
    "print('Accuracy: {0:.3f}'.format(accuracy))\n",
    "print('Precision: {0:.3f}'.format(precision))\n",
    "print('Recall: {0:.3f}'.format(recall))\n",
    "print('F1: {0:.3f}'.format(f1))"
   ]
  },
  {
   "cell_type": "markdown",
   "metadata": {},
   "source": [
    "#### Q. 과연 threshold를 0.5로 놓는 것이 타당한가?"
   ]
  },
  {
   "cell_type": "code",
   "execution_count": 23,
   "metadata": {},
   "outputs": [
    {
     "name": "stdout",
     "output_type": "stream",
     "text": [
      "performance  Accuracy  Precision    Recall        F1\n",
      "threshold                                           \n",
      "0.0          0.625731   0.625731  1.000000  0.769784\n",
      "0.1          0.964912   0.954955  0.990654  0.972477\n",
      "0.2          0.970760   0.963636  0.990654  0.976959\n",
      "0.3          0.970760   0.972222  0.981308  0.976744\n",
      "0.4          0.976608   0.981308  0.981308  0.981308\n",
      "0.5          0.976608   0.981308  0.981308  0.981308\n",
      "0.6          0.976608   0.981308  0.981308  0.981308\n",
      "0.7          0.970760   0.981132  0.971963  0.976526\n",
      "0.8          0.970760   0.981132  0.971963  0.976526\n",
      "0.9          0.953216   0.980583  0.943925  0.961905\n"
     ]
    }
   ],
   "source": [
    "# 임계값에 따른 비교\n",
    "def perf_eval(cm):\n",
    "    # Accuracy\n",
    "    Accuracy = (cm[0, 0] + cm[1, 1]) / sum(cm.reshape(-1, ))\n",
    "    #Precision\n",
    "    Precision = cm[1, 1] / sum(cm[:, 1])\n",
    "    #Recall\n",
    "    Recall = cm[1, 1] / sum(cm[1])\n",
    "    #F1-score\n",
    "    F1 = 2 * Recall * Precision / (Recall + Precision)\n",
    "    return ([Accuracy, Precision, Recall, F1])\n",
    "\n",
    "threshold = np.arange(0, 1, 0.1)\n",
    "table = pd.DataFrame(columns = ['Accuracy', 'Precision', 'Recall', 'F1'])\n",
    "for i in threshold:\n",
    "    Y_predict_temp = cut_off(Y_predict, i)\n",
    "    confusion_matrix_temp = confusion_matrix(Y_test, Y_predict_temp)\n",
    "    table.loc[i] = perf_eval(confusion_matrix_temp)\n",
    "table.index.name = 'threshold'\n",
    "table.columns.name = 'performance'\n",
    "print(table)"
   ]
  },
  {
   "cell_type": "markdown",
   "metadata": {},
   "source": [
    "### 성능평가지표 - ROC Curve & AUC\n",
    "---"
   ]
  },
  {
   "cell_type": "code",
   "execution_count": 24,
   "metadata": {},
   "outputs": [],
   "source": [
    "from sklearn.metrics import accuracy_score, roc_auc_score, roc_curve"
   ]
  },
  {
   "cell_type": "code",
   "execution_count": 25,
   "metadata": {},
   "outputs": [],
   "source": [
    "def plot_ROC(y_train_true, y_train_prob, y_test_true, y_test_prob):\n",
    "    '''\n",
    "    a funciton to plot the ROC curve for train labels and test labels.\n",
    "    Use the best threshold found in train set to classify items in test set.\n",
    "    '''\n",
    "    fpr_train, tpr_train, thresholds_train = roc_curve(y_train_true, y_train_prob, pos_label =True)\n",
    "    sum_sensitivity_specificity_train = tpr_train + (1-fpr_train)\n",
    "    best_threshold_id_train = np.argmax(sum_sensitivity_specificity_train)\n",
    "    best_threshold = thresholds_train[best_threshold_id_train]\n",
    "    best_fpr_train = fpr_train[best_threshold_id_train]\n",
    "    best_tpr_train = tpr_train[best_threshold_id_train]\n",
    "    y_train = y_train_prob > best_threshold\n",
    "\n",
    "    cm_train = confusion_matrix(y_train_true, y_train)\n",
    "    acc_train = accuracy_score(y_train_true, y_train)\n",
    "    auc_train = roc_auc_score(y_train_true, y_train)\n",
    "\n",
    "    print('Train Accuracy: %s ' %acc_train)\n",
    "    print('Train AUC: %s ' %auc_train)\n",
    "    print('Train Confusion Matrix:')\n",
    "    print(cm_train)\n",
    "\n",
    "    fig = plt.figure(figsize=(10,5))\n",
    "    ax = fig.add_subplot(121)\n",
    "    curve1 = ax.plot(fpr_train, tpr_train)\n",
    "    curve2 = ax.plot([0, 1], [0, 1], color='navy', linestyle='--')\n",
    "    dot = ax.plot(best_fpr_train, best_tpr_train, marker='o', color='black')\n",
    "    ax.text(best_fpr_train, best_tpr_train, s = '(%.3f,%.3f)' %(best_fpr_train, best_tpr_train))\n",
    "    plt.xlim([0.0, 1.0])\n",
    "    plt.ylim([0.0, 1.0])\n",
    "    plt.xlabel('False Positive Rate')\n",
    "    plt.ylabel('True Positive Rate')\n",
    "    plt.title('ROC curve (Train), AUC = %.4f'%auc_train)\n",
    "\n",
    "    fpr_test, tpr_test, thresholds_test = roc_curve(y_test_true, y_test_prob, pos_label =True)\n",
    "\n",
    "    y_test = y_test_prob > best_threshold\n",
    "\n",
    "    cm_test = confusion_matrix(y_test_true, y_test)\n",
    "    acc_test = accuracy_score(y_test_true, y_test)\n",
    "    auc_test = roc_auc_score(y_test_true, y_test)\n",
    "\n",
    "    print('Test Accuracy: %s ' %acc_test)\n",
    "    print('Test AUC: %s ' %auc_test)\n",
    "    print('Test Confusion Matrix:')\n",
    "    print(cm_test)\n",
    "\n",
    "    tpr_score = float(cm_test[1][1])/(cm_test[1][1] + cm_test[1][0])\n",
    "    fpr_score = float(cm_test[0][1])/(cm_test[0][0]+ cm_test[0][1])\n",
    "\n",
    "    ax2 = fig.add_subplot(122)\n",
    "    curve1 = ax2.plot(fpr_test, tpr_test)\n",
    "    curve2 = ax2.plot([0, 1], [0, 1], color='navy', linestyle='--')\n",
    "    dot = ax2.plot(fpr_score, tpr_score, marker='o', color='black')\n",
    "    ax2.text(fpr_score, tpr_score, s = '(%.3f,%.3f)' %(fpr_score, tpr_score))\n",
    "    plt.xlim([0.0, 1.0])\n",
    "    plt.ylim([0.0, 1.0])\n",
    "    plt.xlabel('False Positive Rate')\n",
    "    plt.ylabel('True Positive Rate')\n",
    "    plt.title('ROC curve (Test), AUC = %.4f'%auc_test)\n",
    "    plt.savefig('ROC', dpi = 500)\n",
    "    plt.show()\n",
    "\n",
    "    return best_threshold"
   ]
  },
  {
   "cell_type": "code",
   "execution_count": 26,
   "metadata": {},
   "outputs": [
    {
     "name": "stdout",
     "output_type": "stream",
     "text": [
      "Train Accuracy: 0.9849246231155779 \n",
      "Train AUC: 0.9838648648648649 \n",
      "Train Confusion Matrix:\n",
      "[[145   3]\n",
      " [  3 247]]\n",
      "Test Accuracy: 0.9707602339181286 \n",
      "Test AUC: 0.970356308411215 \n",
      "Test Confusion Matrix:\n",
      "[[ 62   2]\n",
      " [  3 104]]\n"
     ]
    },
    {
     "data": {
      "image/png": "[encoded data removed]",
      "text/plain": [
       "<Figure size 720x360 with 2 Axes>"
      ]
     },
     "metadata": {
      "needs_background": "light"
     },
     "output_type": "display_data"
    },
    {
     "name": "stdout",
     "output_type": "stream",
     "text": [
      "Best Threshold: 0.6238656740844232\n"
     ]
    }
   ],
   "source": [
    "best_threshold = plot_ROC(y_train_true=Y_train, y_train_prob=logit_m_train.predict(X_train), \n",
    "                          y_test_true=Y_test, y_test_prob=logit_m_train.predict(X_test))\n",
    "print('Best Threshold:', best_threshold)"
   ]
  },
  {
   "cell_type": "markdown",
   "metadata": {},
   "source": [
    "### KNN 회귀분석과 비교해보기\n",
    "---"
   ]
  },
  {
   "cell_type": "code",
   "execution_count": 29,
   "metadata": {},
   "outputs": [
    {
     "name": "stdout",
     "output_type": "stream",
     "text": [
      "Collecting mglearn\n",
      "  Downloading mglearn-0.1.9.tar.gz (540 kB)\n",
      "Requirement already satisfied: numpy in c:\\programdata\\anaconda3\\lib\\site-packages (from mglearn) (1.18.1)\n",
      "Requirement already satisfied: matplotlib in c:\\programdata\\anaconda3\\lib\\site-packages (from mglearn) (3.1.3)\n",
      "Requirement already satisfied: scikit-learn in c:\\programdata\\anaconda3\\lib\\site-packages (from mglearn) (0.22.1)\n",
      "Requirement already satisfied: pandas in c:\\programdata\\anaconda3\\lib\\site-packages (from mglearn) (1.0.1)\n",
      "Requirement already satisfied: pillow in c:\\programdata\\anaconda3\\lib\\site-packages (from mglearn) (7.0.0)\n",
      "Requirement already satisfied: cycler in c:\\programdata\\anaconda3\\lib\\site-packages (from mglearn) (0.10.0)\n",
      "Requirement already satisfied: imageio in c:\\programdata\\anaconda3\\lib\\site-packages (from mglearn) (2.6.1)\n",
      "Requirement already satisfied: joblib in c:\\programdata\\anaconda3\\lib\\site-packages (from mglearn) (0.14.1)\n",
      "Requirement already satisfied: python-dateutil>=2.1 in c:\\programdata\\anaconda3\\lib\\site-packages (from matplotlib->mglearn) (2.8.1)\n",
      "Requirement already satisfied: pyparsing!=2.0.4,!=2.1.2,!=2.1.6,>=2.0.1 in c:\\programdata\\anaconda3\\lib\\site-packages (from matplotlib->mglearn) (2.4.6)\n",
      "Requirement already satisfied: kiwisolver>=1.0.1 in c:\\programdata\\anaconda3\\lib\\site-packages (from matplotlib->mglearn) (1.1.0)\n",
      "Requirement already satisfied: scipy>=0.17.0 in c:\\programdata\\anaconda3\\lib\\site-packages (from scikit-learn->mglearn) (1.4.1)\n",
      "Requirement already satisfied: pytz>=2017.2 in c:\\programdata\\anaconda3\\lib\\site-packages (from pandas->mglearn) (2019.3)\n",
      "Requirement already satisfied: six in c:\\programdata\\anaconda3\\lib\\site-packages (from cycler->mglearn) (1.14.0)\n",
      "Requirement already satisfied: setuptools in c:\\programdata\\anaconda3\\lib\\site-packages (from kiwisolver>=1.0.1->matplotlib->mglearn) (45.2.0.post20200210)\n",
      "Building wheels for collected packages: mglearn\n",
      "  Building wheel for mglearn (setup.py): started\n",
      "  Building wheel for mglearn (setup.py): finished with status 'done'\n",
      "  Created wheel for mglearn: filename=mglearn-0.1.9-py2.py3-none-any.whl size=582645 sha256=5f06dc0f5b5e8caf43c1acbc64f8d6a9cffbb3aa4e4cdfde70ab24a26d6a771c\n",
      "  Stored in directory: c:\\users\\s\\appdata\\local\\pip\\cache\\wheels\\f1\\17\\e1\\1720d6dcd70187b6b6c3750cb3508798f2b1d57c9d3214b08b\n",
      "Successfully built mglearn\n",
      "Installing collected packages: mglearn\n",
      "Successfully installed mglearn-0.1.9\n"
     ]
    }
   ],
   "source": [
    "!pip install mglearn\n",
    "import mglearn"
   ]
  },
  {
   "cell_type": "code",
   "execution_count": 30,
   "metadata": {},
   "outputs": [
    {
     "data": {
      "image/png": "[encoded data removed]",
      "text/plain": [
       "<Figure size 720x432 with 1 Axes>"
      ]
     },
     "metadata": {
      "needs_background": "light"
     },
     "output_type": "display_data"
    }
   ],
   "source": [
    "mglearn.plots.plot_knn_regression(n_neighbors = 1)"
   ]
  },
  {
   "cell_type": "code",
   "execution_count": 32,
   "metadata": {},
   "outputs": [],
   "source": [
    "import sklearn.preprocessing as preprocessing\n",
    "from sklearn.neighbors import KNeighborsRegressor"
   ]
  },
  {
   "cell_type": "code",
   "execution_count": 33,
   "metadata": {},
   "outputs": [],
   "source": [
    "# 변수 값 정규화\n",
    "preprocessor = preprocessing.Normalizer()\n",
    "X_train_kr = preprocessor.fit_transform(X_train)\n",
    "X_test_kr = preprocessor.transform(X_test)"
   ]
  },
  {
   "cell_type": "code",
   "execution_count": 36,
   "metadata": {},
   "outputs": [
    {
     "data": {
      "text/plain": [
       "<matplotlib.legend.Legend at 0x1e7986823c8>"
      ]
     },
     "execution_count": 36,
     "metadata": {},
     "output_type": "execute_result"
    },
    {
     "data": {
      "image/png": "[encoded data removed]",
      "text/plain": [
       "<Figure size 432x288 with 1 Axes>"
      ]
     },
     "metadata": {
      "needs_background": "light"
     },
     "output_type": "display_data"
    }
   ],
   "source": [
    "training_rsquare = []\n",
    "test_rsquare = []\n",
    "\n",
    "# 여러 k 값에 대한 모델 생성 n_neighbors를 적용\n",
    "k_settings = range(1, 25)\n",
    "\n",
    "for k in k_settings:\n",
    "    # 모델 생성\n",
    "    breast_cancer_knn = KNeighborsRegressor(n_neighbors = k)\n",
    "    breast_cancer_knn.fit(X_train_kr, Y_train)\n",
    "    # 훈련 세트 정확도 저장\n",
    "    training_rsquare.append(breast_cancer_knn.score(X_train_kr, Y_train))\n",
    "    # 일반화 정확도 저장\n",
    "    test_rsquare.append(breast_cancer_knn.score(X_test_kr, Y_test))\n",
    "    \n",
    "# K의 변화량에 따른 예측 정확도 성능 비교\n",
    "plt.plot(k_settings, training_rsquare, label = \"훈련 R-square\")\n",
    "plt.plot(k_settings, test_rsquare, label = \"테스트 R-square\")\n",
    "plt.ylabel(\"R^2\")\n",
    "plt.xlabel(\"K\")\n",
    "plt.legend()"
   ]
  },
  {
   "cell_type": "code",
   "execution_count": 38,
   "metadata": {},
   "outputs": [
    {
     "name": "stdout",
     "output_type": "stream",
     "text": [
      "최적의 K 값: 5\n"
     ]
    }
   ],
   "source": [
    "# 최적의 K 판단\n",
    "from itertools import compress\n",
    "best_k_temp = test_rsquare == max(test_rsquare)\n",
    "best_k = list(compress(k_settings, best_k_temp))[0]\n",
    "print('최적의 K 값:', best_k)"
   ]
  },
  {
   "cell_type": "code",
   "execution_count": 39,
   "metadata": {},
   "outputs": [
    {
     "name": "stdout",
     "output_type": "stream",
     "text": [
      "[[1. ]\n",
      " [1. ]\n",
      " [0.6]\n",
      " [0. ]\n",
      " [0.4]\n",
      " [1. ]\n",
      " [0.4]\n",
      " [0. ]\n",
      " [1. ]\n",
      " [1. ]\n",
      " [0.4]\n",
      " [1. ]\n",
      " [0. ]\n",
      " [1. ]\n",
      " [1. ]\n",
      " [1. ]\n",
      " [0. ]\n",
      " [1. ]\n",
      " [1. ]\n",
      " [1. ]\n",
      " [0. ]\n",
      " [0. ]\n",
      " [0.6]\n",
      " [0. ]\n",
      " [0. ]\n",
      " [0. ]\n",
      " [1. ]\n",
      " [0. ]\n",
      " [1. ]\n",
      " [1. ]\n",
      " [0. ]\n",
      " [1. ]\n",
      " [0. ]\n",
      " [0. ]\n",
      " [0. ]\n",
      " [1. ]\n",
      " [1. ]\n",
      " [1. ]\n",
      " [1. ]\n",
      " [0. ]\n",
      " [0.2]\n",
      " [0.8]\n",
      " [1. ]\n",
      " [0.6]\n",
      " [0.4]\n",
      " [1. ]\n",
      " [1. ]\n",
      " [0. ]\n",
      " [0.8]\n",
      " [0.8]\n",
      " [0. ]\n",
      " [1. ]\n",
      " [0.2]\n",
      " [1. ]\n",
      " [1. ]\n",
      " [0.6]\n",
      " [1. ]\n",
      " [1. ]\n",
      " [1. ]\n",
      " [0.2]\n",
      " [0. ]\n",
      " [1. ]\n",
      " [1. ]\n",
      " [0.8]\n",
      " [1. ]\n",
      " [1. ]\n",
      " [0.2]\n",
      " [1. ]\n",
      " [0. ]\n",
      " [1. ]\n",
      " [1. ]\n",
      " [0. ]\n",
      " [1. ]\n",
      " [0. ]\n",
      " [0. ]\n",
      " [0.8]\n",
      " [1. ]\n",
      " [1. ]\n",
      " [1. ]\n",
      " [0. ]\n",
      " [1. ]\n",
      " [1. ]\n",
      " [0. ]\n",
      " [1. ]\n",
      " [1. ]\n",
      " [1. ]\n",
      " [0. ]\n",
      " [1. ]\n",
      " [1. ]\n",
      " [1. ]\n",
      " [0.4]\n",
      " [1. ]\n",
      " [0. ]\n",
      " [0. ]\n",
      " [0. ]\n",
      " [1. ]\n",
      " [1. ]\n",
      " [0. ]\n",
      " [1. ]\n",
      " [1. ]\n",
      " [0. ]\n",
      " [0. ]\n",
      " [1. ]\n",
      " [1. ]\n",
      " [1. ]\n",
      " [0. ]\n",
      " [1. ]\n",
      " [1. ]\n",
      " [1. ]\n",
      " [1. ]\n",
      " [1. ]\n",
      " [1. ]\n",
      " [1. ]\n",
      " [1. ]\n",
      " [1. ]\n",
      " [1. ]\n",
      " [1. ]\n",
      " [1. ]\n",
      " [1. ]\n",
      " [0. ]\n",
      " [0. ]\n",
      " [0. ]\n",
      " [0. ]\n",
      " [1. ]\n",
      " [1. ]\n",
      " [1. ]\n",
      " [1. ]\n",
      " [0. ]\n",
      " [1. ]\n",
      " [0.8]\n",
      " [0.6]\n",
      " [0. ]\n",
      " [0.8]\n",
      " [1. ]\n",
      " [0. ]\n",
      " [0. ]\n",
      " [0. ]\n",
      " [0.6]\n",
      " [1. ]\n",
      " [1. ]\n",
      " [1. ]\n",
      " [1. ]\n",
      " [1. ]\n",
      " [1. ]\n",
      " [1. ]\n",
      " [0.8]\n",
      " [1. ]\n",
      " [1. ]\n",
      " [0.2]\n",
      " [1. ]\n",
      " [1. ]\n",
      " [0. ]\n",
      " [0. ]\n",
      " [0. ]\n",
      " [1. ]\n",
      " [1. ]\n",
      " [0.8]\n",
      " [0.6]\n",
      " [1. ]\n",
      " [1. ]\n",
      " [0. ]\n",
      " [0.4]\n",
      " [1. ]\n",
      " [0. ]\n",
      " [1. ]\n",
      " [1. ]\n",
      " [1. ]\n",
      " [1. ]\n",
      " [0. ]\n",
      " [0.8]\n",
      " [0.6]]\n"
     ]
    }
   ],
   "source": [
    "# 최적의 K 값에서 테스트 데이터의 Y 예측값\n",
    "best_breast_cancer_knn = KNeighborsRegressor(n_neighbors = best_k)\n",
    "best_breast_cancer_knn.fit(X_train_kr, Y_train)\n",
    "Y_predict_kr = best_breast_cancer_knn.predict(X_test_kr)\n",
    "print(Y_predict_kr)"
   ]
  },
  {
   "cell_type": "markdown",
   "metadata": {},
   "source": [
    "### Result: KNN VS Logistic\n",
    "---"
   ]
  },
  {
   "cell_type": "code",
   "execution_count": 40,
   "metadata": {},
   "outputs": [
    {
     "data": {
      "image/png": "[encoded data removed]",
      "text/plain": [
       "<Figure size 1152x576 with 2 Axes>"
      ]
     },
     "metadata": {
      "needs_background": "light"
     },
     "output_type": "display_data"
    }
   ],
   "source": [
    "plt.figure(figsize = (16, 8))\n",
    "plt.subplot(1, 2, 1)\n",
    "plt.scatter(Y_test, Y_predict_kr)\n",
    "plt.xlabel('Y', size = 16)\n",
    "plt.ylabel('$\\hat{Y}$', size = 16)\n",
    "plt.subplot(1, 2, 2)\n",
    "plt.scatter(Y_test, Y_predict_temp)\n",
    "plt.xlabel('Y', size = 16)\n",
    "plt.ylabel('$\\hat{Y}$', size = 16)\n",
    "plt.show()"
   ]
  },
  {
   "cell_type": "code",
   "execution_count": 42,
   "metadata": {},
   "outputs": [],
   "source": [
    "from sklearn.metrics import mean_absolute_error, mean_squared_error, r2_score "
   ]
  },
  {
   "cell_type": "code",
   "execution_count": 43,
   "metadata": {},
   "outputs": [
    {
     "name": "stdout",
     "output_type": "stream",
     "text": [
      "MAE from KNN Regression : 0.095\n",
      "MAE from Logistic Regression : 0.047\n",
      "MSE from KNN Regression : 0.061\n",
      "MSE from Logistic Regression : 0.047\n",
      "RMSE from KNN Regression : 0.247\n",
      "RMSE from Logistic Regression : 0.216\n",
      "R-square from KNN Regression : 0.739\n",
      "R-square from Logistic Regression : 0.800\n"
     ]
    }
   ],
   "source": [
    "# MSE(mean squared error), R-squared (모형 성능 비교)\n",
    "mae_kr = mean_absolute_error(Y_test, Y_predict_kr)\n",
    "mae_lr = mean_absolute_error(Y_test, Y_predict_temp)\n",
    "mse_kr = mean_squared_error(Y_test, Y_predict_kr)\n",
    "mse_lr = mean_squared_error(Y_test, Y_predict_temp)\n",
    "rmse_kr = np.sqrt(mse_kr)\n",
    "rmse_lr = np.sqrt(mse_lr)\n",
    "r_square_kr = r2_score(Y_test, Y_predict_kr)\n",
    "r_square_lr = r2_score(Y_test, Y_predict_temp)\n",
    "print('MAE from KNN Regression : {0:.3f}'.format(mae_kr))\n",
    "print('MAE from Logistic Regression : {0:.3f}'.format(mae_lr))\n",
    "print('MSE from KNN Regression : {0:.3f}'.format(mse_kr))\n",
    "print('MSE from Logistic Regression : {0:.3f}'.format(mse_lr))\n",
    "print('RMSE from KNN Regression : {0:.3f}'.format(rmse_kr))\n",
    "print('RMSE from Logistic Regression : {0:.3f}'.format(rmse_lr))\n",
    "print('R-square from KNN Regression : {0:.3f}'.format(r_square_kr))\n",
    "print('R-square from Logistic Regression : {0:.3f}'.format(r_square_lr))"
   ]
  }
 ],
 "metadata": {
  "kernelspec": {
   "display_name": "Python 3",
   "language": "python",
   "name": "python3"
  },
  "language_info": {
   "codemirror_mode": {
    "name": "ipython",
    "version": 3
   },
   "file_extension": ".py",
   "mimetype": "text/x-python",
   "name": "python",
   "nbconvert_exporter": "python",
   "pygments_lexer": "ipython3",
   "version": "3.7.6"
  }
 },
 "nbformat": 4,
 "nbformat_minor": 4
}
