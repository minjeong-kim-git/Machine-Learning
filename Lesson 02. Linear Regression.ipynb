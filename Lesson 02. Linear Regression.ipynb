{
 "cells": [
  {
   "cell_type": "markdown",
   "metadata": {},
   "source": [
    "## Linear Regression 실습 - California Housing 데이터셋\n",
    "---\n",
    "* 데이터 설명\n",
    " - 데이터: 1990년 캘리포니아의 각 행정 구역 내 주택 가격\n",
    " - 관측치 개수: 20640개\n",
    " - 변수 개수: 설명변수 8개 / 반응변수 1개"
   ]
  },
  {
   "cell_type": "markdown",
   "metadata": {},
   "source": [
    "* 독립변수\n",
    " - MedInc : 행정 구역 내 소득의 중앙값\n",
    " - HouseAge : 행정 구역 내 주택 연식의 중앙값\n",
    " - AveRooms : 평균 방 갯수\n",
    " - AveBedrms : 평균 침실 갯수\n",
    " - Population : 행정 구역 내 인구 수\n",
    " - AveOccup : 평균 자가 비율\n",
    " - Latitude : 해당 행정 구역의 위도\n",
    " - Longitude : 해당 행정 구역의 경도"
   ]
  },
  {
   "cell_type": "markdown",
   "metadata": {},
   "source": [
    "* 종속변수\n",
    " - House Value: 주택가격"
   ]
  },
  {
   "cell_type": "code",
   "execution_count": 1,
   "metadata": {},
   "outputs": [],
   "source": [
    "import warnings\n",
    "warnings.filterwarnings('ignore')"
   ]
  },
  {
   "cell_type": "code",
   "execution_count": 2,
   "metadata": {},
   "outputs": [],
   "source": [
    "import pandas as pd\n",
    "import numpy as np\n",
    "import matplotlib.pyplot as plt\n",
    "\n",
    "# matplotlib 한글 문제\n",
    "from matplotlib import font_manager, rc\n",
    "font_name = font_manager.FontProperties(fname =  \"c:/Windows/Fonts/malgun.ttf\").get_name()\n",
    "rc('font', family = font_name)"
   ]
  },
  {
   "cell_type": "code",
   "execution_count": 3,
   "metadata": {},
   "outputs": [
    {
     "name": "stderr",
     "output_type": "stream",
     "text": [
      "Downloading Cal. housing from https://ndownloader.figshare.com/files/5976036 to C:\\Users\\s\\scikit_learn_data\n"
     ]
    },
    {
     "name": "stdout",
     "output_type": "stream",
     "text": [
      ".. _california_housing_dataset:\n",
      "\n",
      "California Housing dataset\n",
      "--------------------------\n",
      "\n",
      "**Data Set Characteristics:**\n",
      "\n",
      "    :Number of Instances: 20640\n",
      "\n",
      "    :Number of Attributes: 8 numeric, predictive attributes and the target\n",
      "\n",
      "    :Attribute Information:\n",
      "        - MedInc        median income in block\n",
      "        - HouseAge      median house age in block\n",
      "        - AveRooms      average number of rooms\n",
      "        - AveBedrms     average number of bedrooms\n",
      "        - Population    block population\n",
      "        - AveOccup      average house occupancy\n",
      "        - Latitude      house block latitude\n",
      "        - Longitude     house block longitude\n",
      "\n",
      "    :Missing Attribute Values: None\n",
      "\n",
      "This dataset was obtained from the StatLib repository.\n",
      "http://lib.stat.cmu.edu/datasets/\n",
      "\n",
      "The target variable is the median house value for California districts.\n",
      "\n",
      "This dataset was derived from the 1990 U.S. census, using one row per census\n",
      "block group. A block group is the smallest geographical unit for which the U.S.\n",
      "Census Bureau publishes sample data (a block group typically has a population\n",
      "of 600 to 3,000 people).\n",
      "\n",
      "It can be downloaded/loaded using the\n",
      ":func:`sklearn.datasets.fetch_california_housing` function.\n",
      "\n",
      ".. topic:: References\n",
      "\n",
      "    - Pace, R. Kelley and Ronald Barry, Sparse Spatial Autoregressions,\n",
      "      Statistics and Probability Letters, 33 (1997) 291-297\n",
      "\n"
     ]
    }
   ],
   "source": [
    "from sklearn.datasets import fetch_california_housing\n",
    "california = fetch_california_housing()\n",
    "print(california.DESCR)"
   ]
  },
  {
   "cell_type": "code",
   "execution_count": 4,
   "metadata": {},
   "outputs": [],
   "source": [
    "# 독립변수와 종속변수 분리\n",
    "X = pd.DataFrame(california.data, columns = california.feature_names)\n",
    "Y = pd.DataFrame(california.target, columns = ['House Value'])"
   ]
  },
  {
   "cell_type": "code",
   "execution_count": 5,
   "metadata": {},
   "outputs": [
    {
     "data": {
      "text/html": [
       "<div>\n",
       "<style scoped>\n",
       "    .dataframe tbody tr th:only-of-type {\n",
       "        vertical-align: middle;\n",
       "    }\n",
       "\n",
       "    .dataframe tbody tr th {\n",
       "        vertical-align: top;\n",
       "    }\n",
       "\n",
       "    .dataframe thead th {\n",
       "        text-align: right;\n",
       "    }\n",
       "</style>\n",
       "<table border=\"1\" class=\"dataframe\">\n",
       "  <thead>\n",
       "    <tr style=\"text-align: right;\">\n",
       "      <th></th>\n",
       "      <th>MedInc</th>\n",
       "      <th>HouseAge</th>\n",
       "      <th>AveRooms</th>\n",
       "      <th>AveBedrms</th>\n",
       "      <th>Population</th>\n",
       "      <th>AveOccup</th>\n",
       "      <th>Latitude</th>\n",
       "      <th>Longitude</th>\n",
       "    </tr>\n",
       "  </thead>\n",
       "  <tbody>\n",
       "    <tr>\n",
       "      <th>0</th>\n",
       "      <td>8.3252</td>\n",
       "      <td>41.0</td>\n",
       "      <td>6.984127</td>\n",
       "      <td>1.023810</td>\n",
       "      <td>322.0</td>\n",
       "      <td>2.555556</td>\n",
       "      <td>37.88</td>\n",
       "      <td>-122.23</td>\n",
       "    </tr>\n",
       "    <tr>\n",
       "      <th>1</th>\n",
       "      <td>8.3014</td>\n",
       "      <td>21.0</td>\n",
       "      <td>6.238137</td>\n",
       "      <td>0.971880</td>\n",
       "      <td>2401.0</td>\n",
       "      <td>2.109842</td>\n",
       "      <td>37.86</td>\n",
       "      <td>-122.22</td>\n",
       "    </tr>\n",
       "    <tr>\n",
       "      <th>2</th>\n",
       "      <td>7.2574</td>\n",
       "      <td>52.0</td>\n",
       "      <td>8.288136</td>\n",
       "      <td>1.073446</td>\n",
       "      <td>496.0</td>\n",
       "      <td>2.802260</td>\n",
       "      <td>37.85</td>\n",
       "      <td>-122.24</td>\n",
       "    </tr>\n",
       "    <tr>\n",
       "      <th>3</th>\n",
       "      <td>5.6431</td>\n",
       "      <td>52.0</td>\n",
       "      <td>5.817352</td>\n",
       "      <td>1.073059</td>\n",
       "      <td>558.0</td>\n",
       "      <td>2.547945</td>\n",
       "      <td>37.85</td>\n",
       "      <td>-122.25</td>\n",
       "    </tr>\n",
       "    <tr>\n",
       "      <th>4</th>\n",
       "      <td>3.8462</td>\n",
       "      <td>52.0</td>\n",
       "      <td>6.281853</td>\n",
       "      <td>1.081081</td>\n",
       "      <td>565.0</td>\n",
       "      <td>2.181467</td>\n",
       "      <td>37.85</td>\n",
       "      <td>-122.25</td>\n",
       "    </tr>\n",
       "  </tbody>\n",
       "</table>\n",
       "</div>"
      ],
      "text/plain": [
       "   MedInc  HouseAge  AveRooms  AveBedrms  Population  AveOccup  Latitude  \\\n",
       "0  8.3252      41.0  6.984127   1.023810       322.0  2.555556     37.88   \n",
       "1  8.3014      21.0  6.238137   0.971880      2401.0  2.109842     37.86   \n",
       "2  7.2574      52.0  8.288136   1.073446       496.0  2.802260     37.85   \n",
       "3  5.6431      52.0  5.817352   1.073059       558.0  2.547945     37.85   \n",
       "4  3.8462      52.0  6.281853   1.081081       565.0  2.181467     37.85   \n",
       "\n",
       "   Longitude  \n",
       "0    -122.23  \n",
       "1    -122.22  \n",
       "2    -122.24  \n",
       "3    -122.25  \n",
       "4    -122.25  "
      ]
     },
     "execution_count": 5,
     "metadata": {},
     "output_type": "execute_result"
    }
   ],
   "source": [
    "X.head()"
   ]
  },
  {
   "cell_type": "code",
   "execution_count": 6,
   "metadata": {},
   "outputs": [
    {
     "data": {
      "text/plain": [
       "(20640, 8)"
      ]
     },
     "execution_count": 6,
     "metadata": {},
     "output_type": "execute_result"
    }
   ],
   "source": [
    "X.shape"
   ]
  },
  {
   "cell_type": "code",
   "execution_count": 7,
   "metadata": {},
   "outputs": [],
   "source": [
    "import statsmodels.api as sm\n",
    "import statsmodels.formula.api as smf"
   ]
  },
  {
   "cell_type": "code",
   "execution_count": 8,
   "metadata": {},
   "outputs": [],
   "source": [
    "# intercept 추가\n",
    "X = sm.add_constant(X, has_constant = 'add')"
   ]
  },
  {
   "cell_type": "code",
   "execution_count": 9,
   "metadata": {},
   "outputs": [
    {
     "data": {
      "text/html": [
       "<div>\n",
       "<style scoped>\n",
       "    .dataframe tbody tr th:only-of-type {\n",
       "        vertical-align: middle;\n",
       "    }\n",
       "\n",
       "    .dataframe tbody tr th {\n",
       "        vertical-align: top;\n",
       "    }\n",
       "\n",
       "    .dataframe thead th {\n",
       "        text-align: right;\n",
       "    }\n",
       "</style>\n",
       "<table border=\"1\" class=\"dataframe\">\n",
       "  <thead>\n",
       "    <tr style=\"text-align: right;\">\n",
       "      <th></th>\n",
       "      <th>const</th>\n",
       "      <th>MedInc</th>\n",
       "      <th>HouseAge</th>\n",
       "      <th>AveRooms</th>\n",
       "      <th>AveBedrms</th>\n",
       "      <th>Population</th>\n",
       "      <th>AveOccup</th>\n",
       "      <th>Latitude</th>\n",
       "      <th>Longitude</th>\n",
       "    </tr>\n",
       "  </thead>\n",
       "  <tbody>\n",
       "    <tr>\n",
       "      <th>0</th>\n",
       "      <td>1.0</td>\n",
       "      <td>8.3252</td>\n",
       "      <td>41.0</td>\n",
       "      <td>6.984127</td>\n",
       "      <td>1.023810</td>\n",
       "      <td>322.0</td>\n",
       "      <td>2.555556</td>\n",
       "      <td>37.88</td>\n",
       "      <td>-122.23</td>\n",
       "    </tr>\n",
       "    <tr>\n",
       "      <th>1</th>\n",
       "      <td>1.0</td>\n",
       "      <td>8.3014</td>\n",
       "      <td>21.0</td>\n",
       "      <td>6.238137</td>\n",
       "      <td>0.971880</td>\n",
       "      <td>2401.0</td>\n",
       "      <td>2.109842</td>\n",
       "      <td>37.86</td>\n",
       "      <td>-122.22</td>\n",
       "    </tr>\n",
       "    <tr>\n",
       "      <th>2</th>\n",
       "      <td>1.0</td>\n",
       "      <td>7.2574</td>\n",
       "      <td>52.0</td>\n",
       "      <td>8.288136</td>\n",
       "      <td>1.073446</td>\n",
       "      <td>496.0</td>\n",
       "      <td>2.802260</td>\n",
       "      <td>37.85</td>\n",
       "      <td>-122.24</td>\n",
       "    </tr>\n",
       "    <tr>\n",
       "      <th>3</th>\n",
       "      <td>1.0</td>\n",
       "      <td>5.6431</td>\n",
       "      <td>52.0</td>\n",
       "      <td>5.817352</td>\n",
       "      <td>1.073059</td>\n",
       "      <td>558.0</td>\n",
       "      <td>2.547945</td>\n",
       "      <td>37.85</td>\n",
       "      <td>-122.25</td>\n",
       "    </tr>\n",
       "    <tr>\n",
       "      <th>4</th>\n",
       "      <td>1.0</td>\n",
       "      <td>3.8462</td>\n",
       "      <td>52.0</td>\n",
       "      <td>6.281853</td>\n",
       "      <td>1.081081</td>\n",
       "      <td>565.0</td>\n",
       "      <td>2.181467</td>\n",
       "      <td>37.85</td>\n",
       "      <td>-122.25</td>\n",
       "    </tr>\n",
       "  </tbody>\n",
       "</table>\n",
       "</div>"
      ],
      "text/plain": [
       "   const  MedInc  HouseAge  AveRooms  AveBedrms  Population  AveOccup  \\\n",
       "0    1.0  8.3252      41.0  6.984127   1.023810       322.0  2.555556   \n",
       "1    1.0  8.3014      21.0  6.238137   0.971880      2401.0  2.109842   \n",
       "2    1.0  7.2574      52.0  8.288136   1.073446       496.0  2.802260   \n",
       "3    1.0  5.6431      52.0  5.817352   1.073059       558.0  2.547945   \n",
       "4    1.0  3.8462      52.0  6.281853   1.081081       565.0  2.181467   \n",
       "\n",
       "   Latitude  Longitude  \n",
       "0     37.88    -122.23  \n",
       "1     37.86    -122.22  \n",
       "2     37.85    -122.24  \n",
       "3     37.85    -122.25  \n",
       "4     37.85    -122.25  "
      ]
     },
     "execution_count": 9,
     "metadata": {},
     "output_type": "execute_result"
    }
   ],
   "source": [
    "X.head()"
   ]
  },
  {
   "cell_type": "code",
   "execution_count": 10,
   "metadata": {},
   "outputs": [
    {
     "data": {
      "text/html": [
       "<div>\n",
       "<style scoped>\n",
       "    .dataframe tbody tr th:only-of-type {\n",
       "        vertical-align: middle;\n",
       "    }\n",
       "\n",
       "    .dataframe tbody tr th {\n",
       "        vertical-align: top;\n",
       "    }\n",
       "\n",
       "    .dataframe thead th {\n",
       "        text-align: right;\n",
       "    }\n",
       "</style>\n",
       "<table border=\"1\" class=\"dataframe\">\n",
       "  <thead>\n",
       "    <tr style=\"text-align: right;\">\n",
       "      <th></th>\n",
       "      <th>House Value</th>\n",
       "    </tr>\n",
       "  </thead>\n",
       "  <tbody>\n",
       "    <tr>\n",
       "      <th>0</th>\n",
       "      <td>4.526</td>\n",
       "    </tr>\n",
       "    <tr>\n",
       "      <th>1</th>\n",
       "      <td>3.585</td>\n",
       "    </tr>\n",
       "    <tr>\n",
       "      <th>2</th>\n",
       "      <td>3.521</td>\n",
       "    </tr>\n",
       "    <tr>\n",
       "      <th>3</th>\n",
       "      <td>3.413</td>\n",
       "    </tr>\n",
       "    <tr>\n",
       "      <th>4</th>\n",
       "      <td>3.422</td>\n",
       "    </tr>\n",
       "  </tbody>\n",
       "</table>\n",
       "</div>"
      ],
      "text/plain": [
       "   House Value\n",
       "0        4.526\n",
       "1        3.585\n",
       "2        3.521\n",
       "3        3.413\n",
       "4        3.422"
      ]
     },
     "execution_count": 10,
     "metadata": {},
     "output_type": "execute_result"
    }
   ],
   "source": [
    "Y.head()"
   ]
  },
  {
   "cell_type": "code",
   "execution_count": 11,
   "metadata": {},
   "outputs": [],
   "source": [
    "from sklearn.model_selection import train_test_split"
   ]
  },
  {
   "cell_type": "code",
   "execution_count": 12,
   "metadata": {},
   "outputs": [
    {
     "name": "stdout",
     "output_type": "stream",
     "text": [
      "(14447, 9) (6192, 9) (14447, 1) (6192, 1)\n"
     ]
    }
   ],
   "source": [
    "# 학습 데이터, 훈련 데이터 분리\n",
    "X_train, X_test, Y_train, Y_test = train_test_split(X, Y, train_size = 0.7, test_size = 0.3, random_state = 1234)\n",
    "print(X_train.shape, X_test.shape, Y_train.shape, Y_test.shape)"
   ]
  },
  {
   "cell_type": "code",
   "execution_count": 13,
   "metadata": {},
   "outputs": [],
   "source": [
    "# 회귀 모델 생성\n",
    "lm = sm.OLS(Y_train, X_train)\n",
    "lm_train = lm.fit()"
   ]
  },
  {
   "cell_type": "code",
   "execution_count": 14,
   "metadata": {},
   "outputs": [
    {
     "data": {
      "text/html": [
       "<table class=\"simpletable\">\n",
       "<caption>OLS Regression Results</caption>\n",
       "<tr>\n",
       "  <th>Dep. Variable:</th>       <td>House Value</td>   <th>  R-squared:         </th> <td>   0.608</td> \n",
       "</tr>\n",
       "<tr>\n",
       "  <th>Model:</th>                   <td>OLS</td>       <th>  Adj. R-squared:    </th> <td>   0.608</td> \n",
       "</tr>\n",
       "<tr>\n",
       "  <th>Method:</th>             <td>Least Squares</td>  <th>  F-statistic:       </th> <td>   2796.</td> \n",
       "</tr>\n",
       "<tr>\n",
       "  <th>Date:</th>             <td>Thu, 14 Oct 2021</td> <th>  Prob (F-statistic):</th>  <td>  0.00</td>  \n",
       "</tr>\n",
       "<tr>\n",
       "  <th>Time:</th>                 <td>10:54:27</td>     <th>  Log-Likelihood:    </th> <td> -15806.</td> \n",
       "</tr>\n",
       "<tr>\n",
       "  <th>No. Observations:</th>      <td> 14447</td>      <th>  AIC:               </th> <td>3.163e+04</td>\n",
       "</tr>\n",
       "<tr>\n",
       "  <th>Df Residuals:</th>          <td> 14438</td>      <th>  BIC:               </th> <td>3.170e+04</td>\n",
       "</tr>\n",
       "<tr>\n",
       "  <th>Df Model:</th>              <td>     8</td>      <th>                     </th>     <td> </td>    \n",
       "</tr>\n",
       "<tr>\n",
       "  <th>Covariance Type:</th>      <td>nonrobust</td>    <th>                     </th>     <td> </td>    \n",
       "</tr>\n",
       "</table>\n",
       "<table class=\"simpletable\">\n",
       "<tr>\n",
       "       <td></td>         <th>coef</th>     <th>std err</th>      <th>t</th>      <th>P>|t|</th>  <th>[0.025</th>    <th>0.975]</th>  \n",
       "</tr>\n",
       "<tr>\n",
       "  <th>const</th>      <td>  -36.3707</td> <td>    0.793</td> <td>  -45.860</td> <td> 0.000</td> <td>  -37.925</td> <td>  -34.816</td>\n",
       "</tr>\n",
       "<tr>\n",
       "  <th>MedInc</th>     <td>    0.4423</td> <td>    0.005</td> <td>   87.209</td> <td> 0.000</td> <td>    0.432</td> <td>    0.452</td>\n",
       "</tr>\n",
       "<tr>\n",
       "  <th>HouseAge</th>   <td>    0.0096</td> <td>    0.001</td> <td>   18.072</td> <td> 0.000</td> <td>    0.009</td> <td>    0.011</td>\n",
       "</tr>\n",
       "<tr>\n",
       "  <th>AveRooms</th>   <td>   -0.1172</td> <td>    0.007</td> <td>  -16.205</td> <td> 0.000</td> <td>   -0.131</td> <td>   -0.103</td>\n",
       "</tr>\n",
       "<tr>\n",
       "  <th>AveBedrms</th>  <td>    0.7227</td> <td>    0.035</td> <td>   20.493</td> <td> 0.000</td> <td>    0.654</td> <td>    0.792</td>\n",
       "</tr>\n",
       "<tr>\n",
       "  <th>Population</th> <td>-3.199e-06</td> <td> 5.72e-06</td> <td>   -0.560</td> <td> 0.576</td> <td>-1.44e-05</td> <td> 8.01e-06</td>\n",
       "</tr>\n",
       "<tr>\n",
       "  <th>AveOccup</th>   <td>   -0.0038</td> <td>    0.001</td> <td>   -7.074</td> <td> 0.000</td> <td>   -0.005</td> <td>   -0.003</td>\n",
       "</tr>\n",
       "<tr>\n",
       "  <th>Latitude</th>   <td>   -0.4125</td> <td>    0.009</td> <td>  -47.826</td> <td> 0.000</td> <td>   -0.429</td> <td>   -0.396</td>\n",
       "</tr>\n",
       "<tr>\n",
       "  <th>Longitude</th>  <td>   -0.4266</td> <td>    0.009</td> <td>  -47.141</td> <td> 0.000</td> <td>   -0.444</td> <td>   -0.409</td>\n",
       "</tr>\n",
       "</table>\n",
       "<table class=\"simpletable\">\n",
       "<tr>\n",
       "  <th>Omnibus:</th>       <td>2901.126</td> <th>  Durbin-Watson:     </th> <td>   1.993</td>\n",
       "</tr>\n",
       "<tr>\n",
       "  <th>Prob(Omnibus):</th>  <td> 0.000</td>  <th>  Jarque-Bera (JB):  </th> <td>7930.369</td>\n",
       "</tr>\n",
       "<tr>\n",
       "  <th>Skew:</th>           <td> 1.075</td>  <th>  Prob(JB):          </th> <td>    0.00</td>\n",
       "</tr>\n",
       "<tr>\n",
       "  <th>Kurtosis:</th>       <td> 5.925</td>  <th>  Cond. No.          </th> <td>2.39e+05</td>\n",
       "</tr>\n",
       "</table><br/><br/>Warnings:<br/>[1] Standard Errors assume that the covariance matrix of the errors is correctly specified.<br/>[2] The condition number is large, 2.39e+05. This might indicate that there are<br/>strong multicollinearity or other numerical problems."
      ],
      "text/plain": [
       "<class 'statsmodels.iolib.summary.Summary'>\n",
       "\"\"\"\n",
       "                            OLS Regression Results                            \n",
       "==============================================================================\n",
       "Dep. Variable:            House Value   R-squared:                       0.608\n",
       "Model:                            OLS   Adj. R-squared:                  0.608\n",
       "Method:                 Least Squares   F-statistic:                     2796.\n",
       "Date:                Thu, 14 Oct 2021   Prob (F-statistic):               0.00\n",
       "Time:                        10:54:27   Log-Likelihood:                -15806.\n",
       "No. Observations:               14447   AIC:                         3.163e+04\n",
       "Df Residuals:                   14438   BIC:                         3.170e+04\n",
       "Df Model:                           8                                         \n",
       "Covariance Type:            nonrobust                                         \n",
       "==============================================================================\n",
       "                 coef    std err          t      P>|t|      [0.025      0.975]\n",
       "------------------------------------------------------------------------------\n",
       "const        -36.3707      0.793    -45.860      0.000     -37.925     -34.816\n",
       "MedInc         0.4423      0.005     87.209      0.000       0.432       0.452\n",
       "HouseAge       0.0096      0.001     18.072      0.000       0.009       0.011\n",
       "AveRooms      -0.1172      0.007    -16.205      0.000      -0.131      -0.103\n",
       "AveBedrms      0.7227      0.035     20.493      0.000       0.654       0.792\n",
       "Population -3.199e-06   5.72e-06     -0.560      0.576   -1.44e-05    8.01e-06\n",
       "AveOccup      -0.0038      0.001     -7.074      0.000      -0.005      -0.003\n",
       "Latitude      -0.4125      0.009    -47.826      0.000      -0.429      -0.396\n",
       "Longitude     -0.4266      0.009    -47.141      0.000      -0.444      -0.409\n",
       "==============================================================================\n",
       "Omnibus:                     2901.126   Durbin-Watson:                   1.993\n",
       "Prob(Omnibus):                  0.000   Jarque-Bera (JB):             7930.369\n",
       "Skew:                           1.075   Prob(JB):                         0.00\n",
       "Kurtosis:                       5.925   Cond. No.                     2.39e+05\n",
       "==============================================================================\n",
       "\n",
       "Warnings:\n",
       "[1] Standard Errors assume that the covariance matrix of the errors is correctly specified.\n",
       "[2] The condition number is large, 2.39e+05. This might indicate that there are\n",
       "strong multicollinearity or other numerical problems.\n",
       "\"\"\""
      ]
     },
     "execution_count": 14,
     "metadata": {},
     "output_type": "execute_result"
    }
   ],
   "source": [
    "lm_train.summary()"
   ]
  },
  {
   "cell_type": "markdown",
   "metadata": {},
   "source": [
    "### 성능평가지표 - MSE, $R^2$\n",
    "---"
   ]
  },
  {
   "cell_type": "code",
   "execution_count": 15,
   "metadata": {},
   "outputs": [
    {
     "name": "stdout",
     "output_type": "stream",
     "text": [
      "15712    2.604726\n",
      "4119     2.943962\n",
      "15725    2.591385\n",
      "14616    1.920884\n",
      "13238    3.040748\n",
      "           ...   \n",
      "7665     2.017562\n",
      "2196     1.554642\n",
      "18162    3.442600\n",
      "16305    1.636008\n",
      "199      2.241782\n",
      "Length: 6192, dtype: float64\n"
     ]
    }
   ],
   "source": [
    "Y_predict = lm_train.predict(X_test)\n",
    "print(Y_predict)"
   ]
  },
  {
   "cell_type": "code",
   "execution_count": 16,
   "metadata": {},
   "outputs": [
    {
     "data": {
      "image/png": "[encoded data removed]",
      "text/plain": [
       "<Figure size 576x576 with 1 Axes>"
      ]
     },
     "metadata": {
      "needs_background": "light"
     },
     "output_type": "display_data"
    }
   ],
   "source": [
    "plt.figure(figsize = (8, 8))\n",
    "plt.scatter(Y_test, Y_predict)\n",
    "plt.xlabel('Y', size = 16)\n",
    "plt.ylabel('$\\hat{Y}$', size=16)\n",
    "plt.show()"
   ]
  },
  {
   "cell_type": "code",
   "execution_count": 18,
   "metadata": {},
   "outputs": [],
   "source": [
    "from sklearn.metrics import mean_absolute_error, mean_squared_error, r2_score "
   ]
  },
  {
   "cell_type": "code",
   "execution_count": 19,
   "metadata": {},
   "outputs": [
    {
     "name": "stdout",
     "output_type": "stream",
     "text": [
      "MAE : 0.525\n",
      "MSE : 0.531\n",
      "RMSE : 0.729\n",
      "R-square : 0.602\n"
     ]
    }
   ],
   "source": [
    "# MSE(Mean Squared Error), R-squared(모형 성능 확인)\n",
    "mae = mean_absolute_error(Y_test, Y_predict)\n",
    "mse = mean_squared_error(Y_test, Y_predict)\n",
    "rmse = np.sqrt(mse)\n",
    "r_square = r2_score(Y_test, Y_predict)\n",
    "print('MAE : {0:.3f}'.format(mae))\n",
    "print('MSE : {0:.3f}'.format(mse))\n",
    "print('RMSE : {0:.3f}'.format(rmse))\n",
    "print('R-square : {0:.3f}'.format(r_square))"
   ]
  },
  {
   "cell_type": "markdown",
   "metadata": {},
   "source": [
    "### KNN Regression\n",
    "---"
   ]
  },
  {
   "cell_type": "code",
   "execution_count": 20,
   "metadata": {},
   "outputs": [],
   "source": [
    "import mglearn"
   ]
  },
  {
   "cell_type": "code",
   "execution_count": 21,
   "metadata": {},
   "outputs": [
    {
     "data": {
      "image/png": "[encoded data removed]",
      "text/plain": [
       "<Figure size 720x432 with 1 Axes>"
      ]
     },
     "metadata": {
      "needs_background": "light"
     },
     "output_type": "display_data"
    }
   ],
   "source": [
    "mglearn.plots.plot_knn_regression(n_neighbors = 1)"
   ]
  },
  {
   "cell_type": "code",
   "execution_count": 22,
   "metadata": {},
   "outputs": [
    {
     "data": {
      "image/png": "[encoded data removed]",
      "text/plain": [
       "<Figure size 720x432 with 1 Axes>"
      ]
     },
     "metadata": {
      "needs_background": "light"
     },
     "output_type": "display_data"
    }
   ],
   "source": [
    "mglearn.plots.plot_knn_regression(n_neighbors = 3)"
   ]
  },
  {
   "cell_type": "markdown",
   "metadata": {},
   "source": [
    "### KNN Regression 실습 - Toy Example\n",
    "---"
   ]
  },
  {
   "cell_type": "code",
   "execution_count": 23,
   "metadata": {},
   "outputs": [],
   "source": [
    "from sklearn.neighbors import KNeighborsRegressor"
   ]
  },
  {
   "cell_type": "code",
   "execution_count": 24,
   "metadata": {},
   "outputs": [],
   "source": [
    "# wave 데이터셋 불러오기\n",
    "X, Y = mglearn.datasets.make_wave(n_samples = 40)"
   ]
  },
  {
   "cell_type": "code",
   "execution_count": 25,
   "metadata": {},
   "outputs": [],
   "source": [
    "# 학습 데이터, 테스트 데이터 분리\n",
    "X_train, X_test, Y_train, Y_test = train_test_split(X, Y, random_state = 0)"
   ]
  },
  {
   "cell_type": "code",
   "execution_count": 26,
   "metadata": {},
   "outputs": [
    {
     "data": {
      "text/plain": [
       "<matplotlib.legend.Legend at 0x21932d25cc8>"
      ]
     },
     "execution_count": 26,
     "metadata": {},
     "output_type": "execute_result"
    },
    {
     "data": {
      "image/png": "[encoded data removed]",
      "text/plain": [
       "<Figure size 1080x288 with 3 Axes>"
      ]
     },
     "metadata": {
      "needs_background": "light"
     },
     "output_type": "display_data"
    }
   ],
   "source": [
    "# K = 1, 2, 3일 경우 KNN Regression 비교\n",
    "fig, axes = plt.subplots(1, 3, figsize = (15, 4))\n",
    "line = np.linspace(-3, 3, 1000).reshape(-1, 1)\n",
    "for k, ax in zip([1, 3, 9], axes):\n",
    "    reg = KNeighborsRegressor(n_neighbors = k)\n",
    "    reg.fit(X_train, Y_train)\n",
    "    ax.plot(line, reg.predict(line))\n",
    "    ax.plot(X_train, Y_train, '^', c = mglearn.cm2(0), markersize = 8)\n",
    "    ax.plot(X_test, Y_test, 'v', c = mglearn.cm2(1), markersize = 8)\n",
    "    ax.set_xlabel('Y')\n",
    "    ax.set_ylabel('X')\n",
    "axes[0].legend(['regression line', 'train data', 'test data'], loc = 'best')"
   ]
  },
  {
   "cell_type": "markdown",
   "metadata": {},
   "source": [
    "## KNN Regression VS Linear Regression - ToyotaCorolla 데이터셋\n",
    "---\n",
    "* 데이터 설명\n",
    " - 사양에 따른 도요타 중고차 차량의 가격예측\n",
    " - 사양정보에 따른 도요타 중고차 1,436대의 가격 데이터셋"
   ]
  },
  {
   "cell_type": "markdown",
   "metadata": {},
   "source": [
    "* 독립변수\n",
    " - 내용연수 (2004년 8월 현재)\n",
    " - 연비 (kilometers)\n",
    " - 연료유형 (diesel, petrol, CNG)\n",
    " - 마력 (horsepower)\n",
    " - 금속색상 (1=yes, 0=no)\n",
    " - 자동변속 (1=yes, 0=no)\n",
    " - 실린더 부피 (cylinder volume)\n",
    " - 자동차 문의 개수\n",
    " - 분기별 도로 사용세(road tax)\n",
    " - 무게 (kg)\n",
    " - ..."
   ]
  },
  {
   "cell_type": "markdown",
   "metadata": {},
   "source": [
    "* 종속변수\n",
    " - 판매가격 (Euros)\n",
    " \n",
    " ※ 연료유형의 경우 다음과 같이 변환이 필요하다. 이때, 'Petrol'의 경우 'Diesel'과 'CNG' 변수가 모두 0인 경우로 판단한다. (변수 생성 필요 없음)\n",
    " \n",
    " - Diesel (1=yes, 0=no)\n",
    " - CNG (1=yes, 0=no)\n",
    " - None needed for “Petrol” (reference category)"
   ]
  },
  {
   "cell_type": "code",
   "execution_count": 27,
   "metadata": {},
   "outputs": [
    {
     "data": {
      "text/html": [
       "<div>\n",
       "<style scoped>\n",
       "    .dataframe tbody tr th:only-of-type {\n",
       "        vertical-align: middle;\n",
       "    }\n",
       "\n",
       "    .dataframe tbody tr th {\n",
       "        vertical-align: top;\n",
       "    }\n",
       "\n",
       "    .dataframe thead th {\n",
       "        text-align: right;\n",
       "    }\n",
       "</style>\n",
       "<table border=\"1\" class=\"dataframe\">\n",
       "  <thead>\n",
       "    <tr style=\"text-align: right;\">\n",
       "      <th></th>\n",
       "      <th>Id</th>\n",
       "      <th>Model</th>\n",
       "      <th>Price</th>\n",
       "      <th>Age_08_04</th>\n",
       "      <th>Mfg_Month</th>\n",
       "      <th>Mfg_Year</th>\n",
       "      <th>KM</th>\n",
       "      <th>Fuel_Type</th>\n",
       "      <th>HP</th>\n",
       "      <th>Met_Color</th>\n",
       "      <th>...</th>\n",
       "      <th>Central_Lock</th>\n",
       "      <th>Powered_Windows</th>\n",
       "      <th>Power_Steering</th>\n",
       "      <th>Radio</th>\n",
       "      <th>Mistlamps</th>\n",
       "      <th>Sport_Model</th>\n",
       "      <th>Backseat_Divider</th>\n",
       "      <th>Metallic_Rim</th>\n",
       "      <th>Radio_cassette</th>\n",
       "      <th>Tow_Bar</th>\n",
       "    </tr>\n",
       "  </thead>\n",
       "  <tbody>\n",
       "    <tr>\n",
       "      <th>0</th>\n",
       "      <td>1</td>\n",
       "      <td>TOYOTA Corolla 2.0 D4D HATCHB TERRA 2/3-Doors</td>\n",
       "      <td>13500</td>\n",
       "      <td>23</td>\n",
       "      <td>10</td>\n",
       "      <td>2002</td>\n",
       "      <td>46986</td>\n",
       "      <td>Diesel</td>\n",
       "      <td>90</td>\n",
       "      <td>1</td>\n",
       "      <td>...</td>\n",
       "      <td>1</td>\n",
       "      <td>1</td>\n",
       "      <td>1</td>\n",
       "      <td>0</td>\n",
       "      <td>0</td>\n",
       "      <td>0</td>\n",
       "      <td>1</td>\n",
       "      <td>0</td>\n",
       "      <td>0</td>\n",
       "      <td>0</td>\n",
       "    </tr>\n",
       "    <tr>\n",
       "      <th>1</th>\n",
       "      <td>2</td>\n",
       "      <td>TOYOTA Corolla 2.0 D4D HATCHB TERRA 2/3-Doors</td>\n",
       "      <td>13750</td>\n",
       "      <td>23</td>\n",
       "      <td>10</td>\n",
       "      <td>2002</td>\n",
       "      <td>72937</td>\n",
       "      <td>Diesel</td>\n",
       "      <td>90</td>\n",
       "      <td>1</td>\n",
       "      <td>...</td>\n",
       "      <td>1</td>\n",
       "      <td>0</td>\n",
       "      <td>1</td>\n",
       "      <td>0</td>\n",
       "      <td>0</td>\n",
       "      <td>0</td>\n",
       "      <td>1</td>\n",
       "      <td>0</td>\n",
       "      <td>0</td>\n",
       "      <td>0</td>\n",
       "    </tr>\n",
       "    <tr>\n",
       "      <th>2</th>\n",
       "      <td>3</td>\n",
       "      <td>?TOYOTA Corolla 2.0 D4D HATCHB TERRA 2/3-Doors</td>\n",
       "      <td>13950</td>\n",
       "      <td>24</td>\n",
       "      <td>9</td>\n",
       "      <td>2002</td>\n",
       "      <td>41711</td>\n",
       "      <td>Diesel</td>\n",
       "      <td>90</td>\n",
       "      <td>1</td>\n",
       "      <td>...</td>\n",
       "      <td>0</td>\n",
       "      <td>0</td>\n",
       "      <td>1</td>\n",
       "      <td>0</td>\n",
       "      <td>0</td>\n",
       "      <td>0</td>\n",
       "      <td>1</td>\n",
       "      <td>0</td>\n",
       "      <td>0</td>\n",
       "      <td>0</td>\n",
       "    </tr>\n",
       "    <tr>\n",
       "      <th>3</th>\n",
       "      <td>4</td>\n",
       "      <td>TOYOTA Corolla 2.0 D4D HATCHB TERRA 2/3-Doors</td>\n",
       "      <td>14950</td>\n",
       "      <td>26</td>\n",
       "      <td>7</td>\n",
       "      <td>2002</td>\n",
       "      <td>48000</td>\n",
       "      <td>Diesel</td>\n",
       "      <td>90</td>\n",
       "      <td>0</td>\n",
       "      <td>...</td>\n",
       "      <td>0</td>\n",
       "      <td>0</td>\n",
       "      <td>1</td>\n",
       "      <td>0</td>\n",
       "      <td>0</td>\n",
       "      <td>0</td>\n",
       "      <td>1</td>\n",
       "      <td>0</td>\n",
       "      <td>0</td>\n",
       "      <td>0</td>\n",
       "    </tr>\n",
       "    <tr>\n",
       "      <th>4</th>\n",
       "      <td>5</td>\n",
       "      <td>TOYOTA Corolla 2.0 D4D HATCHB SOL 2/3-Doors</td>\n",
       "      <td>13750</td>\n",
       "      <td>30</td>\n",
       "      <td>3</td>\n",
       "      <td>2002</td>\n",
       "      <td>38500</td>\n",
       "      <td>Diesel</td>\n",
       "      <td>90</td>\n",
       "      <td>0</td>\n",
       "      <td>...</td>\n",
       "      <td>1</td>\n",
       "      <td>1</td>\n",
       "      <td>1</td>\n",
       "      <td>0</td>\n",
       "      <td>1</td>\n",
       "      <td>0</td>\n",
       "      <td>1</td>\n",
       "      <td>0</td>\n",
       "      <td>0</td>\n",
       "      <td>0</td>\n",
       "    </tr>\n",
       "  </tbody>\n",
       "</table>\n",
       "<p>5 rows × 37 columns</p>\n",
       "</div>"
      ],
      "text/plain": [
       "   Id                                           Model  Price  Age_08_04  \\\n",
       "0   1   TOYOTA Corolla 2.0 D4D HATCHB TERRA 2/3-Doors  13500         23   \n",
       "1   2   TOYOTA Corolla 2.0 D4D HATCHB TERRA 2/3-Doors  13750         23   \n",
       "2   3  ?TOYOTA Corolla 2.0 D4D HATCHB TERRA 2/3-Doors  13950         24   \n",
       "3   4   TOYOTA Corolla 2.0 D4D HATCHB TERRA 2/3-Doors  14950         26   \n",
       "4   5     TOYOTA Corolla 2.0 D4D HATCHB SOL 2/3-Doors  13750         30   \n",
       "\n",
       "   Mfg_Month  Mfg_Year     KM Fuel_Type  HP  Met_Color  ...  Central_Lock  \\\n",
       "0         10      2002  46986    Diesel  90          1  ...             1   \n",
       "1         10      2002  72937    Diesel  90          1  ...             1   \n",
       "2          9      2002  41711    Diesel  90          1  ...             0   \n",
       "3          7      2002  48000    Diesel  90          0  ...             0   \n",
       "4          3      2002  38500    Diesel  90          0  ...             1   \n",
       "\n",
       "   Powered_Windows  Power_Steering  Radio  Mistlamps  Sport_Model  \\\n",
       "0                1               1      0          0            0   \n",
       "1                0               1      0          0            0   \n",
       "2                0               1      0          0            0   \n",
       "3                0               1      0          0            0   \n",
       "4                1               1      0          1            0   \n",
       "\n",
       "   Backseat_Divider  Metallic_Rim  Radio_cassette  Tow_Bar  \n",
       "0                 1             0               0        0  \n",
       "1                 1             0               0        0  \n",
       "2                 1             0               0        0  \n",
       "3                 1             0               0        0  \n",
       "4                 1             0               0        0  \n",
       "\n",
       "[5 rows x 37 columns]"
      ]
     },
     "execution_count": 27,
     "metadata": {},
     "output_type": "execute_result"
    }
   ],
   "source": [
    "corolla = pd.read_csv('C:/Users/s/Desktop/ml/data/ToyotaCorolla.csv')\n",
    "corolla.head()"
   ]
  },
  {
   "cell_type": "code",
   "execution_count": 28,
   "metadata": {},
   "outputs": [
    {
     "data": {
      "text/plain": [
       "(1436, 37)"
      ]
     },
     "execution_count": 28,
     "metadata": {},
     "output_type": "execute_result"
    }
   ],
   "source": [
    "corolla.shape"
   ]
  },
  {
   "cell_type": "code",
   "execution_count": 29,
   "metadata": {},
   "outputs": [],
   "source": [
    "# Dummy 변수 생성\n",
    "n = corolla.shape[0]\n",
    "dummy_d = np.repeat(0, n)\n",
    "dummy_c = np.repeat(0, n)\n",
    "index_d = np.array(corolla.Fuel_Type == \"Diesel\")\n",
    "index_c = np.array(corolla.Fuel_Type == \"CNG\")"
   ]
  },
  {
   "cell_type": "code",
   "execution_count": 30,
   "metadata": {},
   "outputs": [
    {
     "name": "stdout",
     "output_type": "stream",
     "text": [
      "[ True  True  True ... False False False]\n"
     ]
    }
   ],
   "source": [
    "print(index_d)"
   ]
  },
  {
   "cell_type": "code",
   "execution_count": 31,
   "metadata": {},
   "outputs": [
    {
     "name": "stdout",
     "output_type": "stream",
     "text": [
      "[False False False ... False False False]\n"
     ]
    }
   ],
   "source": [
    "print(index_c)"
   ]
  },
  {
   "cell_type": "code",
   "execution_count": 36,
   "metadata": {},
   "outputs": [
    {
     "data": {
      "text/html": [
       "<div>\n",
       "<style scoped>\n",
       "    .dataframe tbody tr th:only-of-type {\n",
       "        vertical-align: middle;\n",
       "    }\n",
       "\n",
       "    .dataframe tbody tr th {\n",
       "        vertical-align: top;\n",
       "    }\n",
       "\n",
       "    .dataframe thead th {\n",
       "        text-align: right;\n",
       "    }\n",
       "</style>\n",
       "<table border=\"1\" class=\"dataframe\">\n",
       "  <thead>\n",
       "    <tr style=\"text-align: right;\">\n",
       "      <th></th>\n",
       "      <th>Price</th>\n",
       "      <th>Age_08_04</th>\n",
       "      <th>Mfg_Month</th>\n",
       "      <th>Mfg_Year</th>\n",
       "      <th>KM</th>\n",
       "      <th>HP</th>\n",
       "      <th>Met_Color</th>\n",
       "      <th>Automatic</th>\n",
       "      <th>cc</th>\n",
       "      <th>Doors</th>\n",
       "      <th>...</th>\n",
       "      <th>Power_Steering</th>\n",
       "      <th>Radio</th>\n",
       "      <th>Mistlamps</th>\n",
       "      <th>Sport_Model</th>\n",
       "      <th>Backseat_Divider</th>\n",
       "      <th>Metallic_Rim</th>\n",
       "      <th>Radio_cassette</th>\n",
       "      <th>Tow_Bar</th>\n",
       "      <th>Diesel</th>\n",
       "      <th>CNG</th>\n",
       "    </tr>\n",
       "  </thead>\n",
       "  <tbody>\n",
       "    <tr>\n",
       "      <th>0</th>\n",
       "      <td>13500</td>\n",
       "      <td>23</td>\n",
       "      <td>10</td>\n",
       "      <td>2002</td>\n",
       "      <td>46986</td>\n",
       "      <td>90</td>\n",
       "      <td>1</td>\n",
       "      <td>0</td>\n",
       "      <td>2000</td>\n",
       "      <td>3</td>\n",
       "      <td>...</td>\n",
       "      <td>1</td>\n",
       "      <td>0</td>\n",
       "      <td>0</td>\n",
       "      <td>0</td>\n",
       "      <td>1</td>\n",
       "      <td>0</td>\n",
       "      <td>0</td>\n",
       "      <td>0</td>\n",
       "      <td>0</td>\n",
       "      <td>0</td>\n",
       "    </tr>\n",
       "    <tr>\n",
       "      <th>1</th>\n",
       "      <td>13750</td>\n",
       "      <td>23</td>\n",
       "      <td>10</td>\n",
       "      <td>2002</td>\n",
       "      <td>72937</td>\n",
       "      <td>90</td>\n",
       "      <td>1</td>\n",
       "      <td>0</td>\n",
       "      <td>2000</td>\n",
       "      <td>3</td>\n",
       "      <td>...</td>\n",
       "      <td>1</td>\n",
       "      <td>0</td>\n",
       "      <td>0</td>\n",
       "      <td>0</td>\n",
       "      <td>1</td>\n",
       "      <td>0</td>\n",
       "      <td>0</td>\n",
       "      <td>0</td>\n",
       "      <td>0</td>\n",
       "      <td>0</td>\n",
       "    </tr>\n",
       "    <tr>\n",
       "      <th>2</th>\n",
       "      <td>13950</td>\n",
       "      <td>24</td>\n",
       "      <td>9</td>\n",
       "      <td>2002</td>\n",
       "      <td>41711</td>\n",
       "      <td>90</td>\n",
       "      <td>1</td>\n",
       "      <td>0</td>\n",
       "      <td>2000</td>\n",
       "      <td>3</td>\n",
       "      <td>...</td>\n",
       "      <td>1</td>\n",
       "      <td>0</td>\n",
       "      <td>0</td>\n",
       "      <td>0</td>\n",
       "      <td>1</td>\n",
       "      <td>0</td>\n",
       "      <td>0</td>\n",
       "      <td>0</td>\n",
       "      <td>0</td>\n",
       "      <td>0</td>\n",
       "    </tr>\n",
       "    <tr>\n",
       "      <th>3</th>\n",
       "      <td>14950</td>\n",
       "      <td>26</td>\n",
       "      <td>7</td>\n",
       "      <td>2002</td>\n",
       "      <td>48000</td>\n",
       "      <td>90</td>\n",
       "      <td>0</td>\n",
       "      <td>0</td>\n",
       "      <td>2000</td>\n",
       "      <td>3</td>\n",
       "      <td>...</td>\n",
       "      <td>1</td>\n",
       "      <td>0</td>\n",
       "      <td>0</td>\n",
       "      <td>0</td>\n",
       "      <td>1</td>\n",
       "      <td>0</td>\n",
       "      <td>0</td>\n",
       "      <td>0</td>\n",
       "      <td>0</td>\n",
       "      <td>0</td>\n",
       "    </tr>\n",
       "    <tr>\n",
       "      <th>4</th>\n",
       "      <td>13750</td>\n",
       "      <td>30</td>\n",
       "      <td>3</td>\n",
       "      <td>2002</td>\n",
       "      <td>38500</td>\n",
       "      <td>90</td>\n",
       "      <td>0</td>\n",
       "      <td>0</td>\n",
       "      <td>2000</td>\n",
       "      <td>3</td>\n",
       "      <td>...</td>\n",
       "      <td>1</td>\n",
       "      <td>0</td>\n",
       "      <td>1</td>\n",
       "      <td>0</td>\n",
       "      <td>1</td>\n",
       "      <td>0</td>\n",
       "      <td>0</td>\n",
       "      <td>0</td>\n",
       "      <td>0</td>\n",
       "      <td>0</td>\n",
       "    </tr>\n",
       "  </tbody>\n",
       "</table>\n",
       "<p>5 rows × 36 columns</p>\n",
       "</div>"
      ],
      "text/plain": [
       "   Price  Age_08_04  Mfg_Month  Mfg_Year     KM  HP  Met_Color  Automatic  \\\n",
       "0  13500         23         10      2002  46986  90          1          0   \n",
       "1  13750         23         10      2002  72937  90          1          0   \n",
       "2  13950         24          9      2002  41711  90          1          0   \n",
       "3  14950         26          7      2002  48000  90          0          0   \n",
       "4  13750         30          3      2002  38500  90          0          0   \n",
       "\n",
       "     cc  Doors  ...  Power_Steering  Radio  Mistlamps  Sport_Model  \\\n",
       "0  2000      3  ...               1      0          0            0   \n",
       "1  2000      3  ...               1      0          0            0   \n",
       "2  2000      3  ...               1      0          0            0   \n",
       "3  2000      3  ...               1      0          0            0   \n",
       "4  2000      3  ...               1      0          1            0   \n",
       "\n",
       "   Backseat_Divider  Metallic_Rim  Radio_cassette  Tow_Bar  Diesel  CNG  \n",
       "0                 1             0               0        0       0    0  \n",
       "1                 1             0               0        0       0    0  \n",
       "2                 1             0               0        0       0    0  \n",
       "3                 1             0               0        0       0    0  \n",
       "4                 1             0               0        0       0    0  \n",
       "\n",
       "[5 rows x 36 columns]"
      ]
     },
     "execution_count": 36,
     "metadata": {},
     "output_type": "execute_result"
    }
   ],
   "source": [
    "# Dummy 변수 추가, 미사용 변수, NA 제거\n",
    "Fuel = pd.DataFrame({'Diesel': dummy_d, 'CNG': dummy_c})\n",
    "corolla_df = corolla.dropna().drop(['Id', 'Model', 'Fuel_Type'], axis = 1, inplace = False)\n",
    "corolla_df = pd.concat((corolla_df, Fuel), axis = 1)\n",
    "corolla_df.head()"
   ]
  },
  {
   "cell_type": "code",
   "execution_count": 37,
   "metadata": {},
   "outputs": [
    {
     "data": {
      "text/plain": [
       "(1436, 36)"
      ]
     },
     "execution_count": 37,
     "metadata": {},
     "output_type": "execute_result"
    }
   ],
   "source": [
    "corolla_df.shape"
   ]
  },
  {
   "cell_type": "code",
   "execution_count": 40,
   "metadata": {},
   "outputs": [],
   "source": [
    "# 독립 변수와 종속 변수 분리\n",
    "feature_columns = list(corolla_df.columns.difference(['Price']))\n",
    "X = corolla_df[feature_columns]\n",
    "Y = corolla_df.Price"
   ]
  },
  {
   "cell_type": "code",
   "execution_count": 41,
   "metadata": {},
   "outputs": [
    {
     "name": "stdout",
     "output_type": "stream",
     "text": [
      "(1005, 35) (431, 35) (1005,) (431,)\n"
     ]
    }
   ],
   "source": [
    "# 학습 데이터, 테스트 데이터 분리\n",
    "X_train, X_test, Y_train, Y_test = train_test_split(X, Y, train_size = 0.7, test_size = 0.3, random_state = 1)\n",
    "print(X_train.shape, X_test.shape, Y_train.shape, Y_test.shape)"
   ]
  },
  {
   "cell_type": "markdown",
   "metadata": {},
   "source": [
    "### KNN Regression\n",
    "---"
   ]
  },
  {
   "cell_type": "code",
   "execution_count": 42,
   "metadata": {},
   "outputs": [],
   "source": [
    "import sklearn.preprocessing as preprocessing\n",
    "from sklearn.neighbors import KNeighborsRegressor"
   ]
  },
  {
   "cell_type": "code",
   "execution_count": 44,
   "metadata": {},
   "outputs": [],
   "source": [
    "# 변수 값 정규화\n",
    "preprocessor = preprocessing.Normalizer()\n",
    "X_train_kr = preprocessor.fit_transform(X_train)\n",
    "X_test_kr = preprocessor.transform(X_test)"
   ]
  },
  {
   "cell_type": "code",
   "execution_count": 45,
   "metadata": {},
   "outputs": [
    {
     "data": {
      "text/plain": [
       "<matplotlib.legend.Legend at 0x2193608dec8>"
      ]
     },
     "execution_count": 45,
     "metadata": {},
     "output_type": "execute_result"
    },
    {
     "data": {
      "image/png": "[encoded data removed]",
      "text/plain": [
       "<Figure size 432x288 with 1 Axes>"
      ]
     },
     "metadata": {
      "needs_background": "light"
     },
     "output_type": "display_data"
    }
   ],
   "source": [
    "training_rsquare = []\n",
    "test_rsquare = []\n",
    "\n",
    "# 여러 k 값에 대한 모델 생성 n_neighbors를 적용\n",
    "k_settings = range(1, 25)\n",
    "\n",
    "for k in k_settings:\n",
    "    # 모델 생성\n",
    "    corolla_knn = KNeighborsRegressor(n_neighbors = k)\n",
    "    corolla_knn.fit(X_train_kr, Y_train)\n",
    "    # 훈련 세트 정확도 저장\n",
    "    training_rsquare.append(corolla_knn.score(X_train, Y_train))\n",
    "    # 일반화 정확도 저장\n",
    "    test_rsquare.append(corolla_knn.score(X_test_kr, Y_test))\n",
    "\n",
    "# K의 변화량에 따른 예측 정확도 성능 비교\n",
    "plt.plot(k_settings, training_rsquare, label = \"훈련 R-square\")\n",
    "plt.plot(k_settings, test_rsquare, label = \"테스트 R-square\")\n",
    "plt.ylabel('R^2')\n",
    "plt.xlabel('K')\n",
    "plt.legend()"
   ]
  },
  {
   "cell_type": "code",
   "execution_count": 46,
   "metadata": {},
   "outputs": [
    {
     "name": "stdout",
     "output_type": "stream",
     "text": [
      "최적의 K 값: 4\n"
     ]
    }
   ],
   "source": [
    "# 최적의 K 판단\n",
    "from itertools import compress\n",
    "best_k_temp = test_rsquare == max(test_rsquare)\n",
    "best_k = list(compress(k_settings, best_k_temp))[0]\n",
    "print('최적의 K 값:', best_k)"
   ]
  },
  {
   "cell_type": "code",
   "execution_count": 47,
   "metadata": {},
   "outputs": [
    {
     "name": "stdout",
     "output_type": "stream",
     "text": [
      "[11162.5  10785.   12222.5   7725.25 11037.5  12448.75  9611.25  8900.\n",
      "  8925.    9012.5  11225.    8225.    8800.   10325.    7275.    8325.\n",
      "  7237.5   8787.5  16225.    6275.   16225.    8162.5   7637.5   7575.\n",
      " 10862.5  19737.5   8700.   11057.5  21175.    9012.5   8987.5   8972.5\n",
      " 12155.   17775.   23656.25 11775.   13525.    7661.25  7862.5  11900.\n",
      " 11147.5   8962.5   9087.5   7387.5   9037.5   9722.5   9825.    8475.\n",
      "  7975.    8785.    9112.5   8925.    8725.    8012.5   7975.   17942.\n",
      "  9737.5  10110.   14075.    7000.   15573.75  8162.5   9275.   10561.25\n",
      " 10025.   17225.   10025.    8925.    8650.   10925.    8785.    9300.\n",
      "  9437.5   7975.    7687.5   9337.5   7975.    9011.25  9100.   12162.5\n",
      " 11962.5   8650.    7950.   10836.25  8787.5   8925.   12387.5  10850.\n",
      " 10712.5   7600.   10175.   11050.   10661.25 10986.25  8137.5   8973.75\n",
      " 11537.5   8800.    9725.    8900.    9525.   10535.   12762.5   9287.5\n",
      " 11412.5  19337.5  11098.75  7887.5   9300.   10422.5   8460.   11675.\n",
      "  9000.    6112.5  10075.   12662.5  11612.5   8575.    8050.    7337.5\n",
      " 19125.   10962.5   8725.   10773.75  7387.5  11236.25  8387.5   8037.5\n",
      " 10195.   18412.5  16787.5   8460.    8462.5   8037.5  10737.5   9062.5\n",
      "  8837.5   8137.25 14412.25  8712.5   8725.    7862.5  10612.5   8825.\n",
      " 10411.25  8687.5  14512.5   8775.    8961.25  9112.5   8825.    7600.\n",
      " 18046.25  8750.    6362.5  13650.   10962.5   9162.5   7787.5  10862.5\n",
      "  9837.5  10700.    8287.5   7600.    9287.5   7937.5   8937.5   9611.25\n",
      "  9175.   12625.    8187.5  16800.    9287.5   9525.   18412.5  10312.5\n",
      "  8650.    9875.    8625.    9050.   13175.   16150.    7650.    6350.\n",
      "  9950.    8837.5   7925.    9725.    9000.   12650.   11112.5   8125.\n",
      " 17225.    9410.    7275.    8575.    9047.5   7825.    9850.    8250.\n",
      "  8547.5  11653.75 19580.    8650.   10737.5   8812.5  14762.5   8337.5\n",
      "  9000.   12910.   10775.    8912.5   7111.25  9111.25 10468.75  6337.5\n",
      "  9712.5  13762.5  10262.5   9700.   11987.5   8037.5  10200.    8262.5\n",
      " 10950.    9575.   12675.   11781.25  7975.   11598.75 12312.5   8037.5\n",
      " 20612.5   9450.    9125.    8437.5  17162.5   8162.5  12786.25 11700.\n",
      "  8187.5  10200.   13500.   11425.   14096.25  9125.   11025.    9212.5\n",
      "  7462.5  11212.5   8900.   14298.75 15912.5  11537.5   8837.5   8562.5\n",
      "  9712.5   9662.5   8987.5  10986.25  9125.   11837.5   8650.   21287.5\n",
      " 13650.   14287.5   9562.5   8775.    7225.25  8011.25  8862.5  17862.5\n",
      " 11150.   10561.25 13346.25 10162.5   8737.5   9487.5   9662.5   9622.5\n",
      " 16025.    8825.    7975.    9037.5  10200.   15162.5   8575.   10798.75\n",
      "  8037.5   9712.5   9287.5  10462.5  15275.   10950.   14275.    9262.5\n",
      " 12724.75 11650.    7337.5  10325.    9087.5  10637.5  11962.5   9125.\n",
      "  8075.   10525.   16012.25  7798.75  8775.   10350.    7825.    9800.\n",
      "  8362.25  8037.5  11912.5  12112.5  12787.5   8785.    8575.    9687.5\n",
      "  9025.    7111.25  7425.    7787.5  12825.   10161.25  7637.5  10722.5\n",
      "  8025.    9162.5  14075.   13911.25  8037.5   9898.75 15685.    8925.\n",
      "  7462.5  13500.    9237.5   8425.    9975.    9025.   11812.5   8187.5\n",
      "  9361.25 13650.    8137.5  10561.25  9136.25 12048.75  8862.5  13525.\n",
      "  9162.5   8962.5   9987.5   9975.    8437.5  15349.75 10037.5  10500.\n",
      " 16798.75 10200.   10325.    8525.    8237.5   9537.5   8012.5   8612.5\n",
      "  7600.    7600.   11748.75  8300.   10932.5  11537.5  10850.   10637.5\n",
      "  7962.5  16797.5   8825.    8975.   11150.    8198.75  8497.5   8450.\n",
      "  7075.    8475.   10637.5   9361.25 12047.5  18692.   10195.    8150.\n",
      "  9047.5   9362.5   7287.75  6662.5   9400.    8325.    9700.    8737.5\n",
      "  8650.    7862.5   9637.5  13525.   12112.5   9075.    9225.   12475.\n",
      " 10812.5   9987.5   8050.    8248.75  7925.   10236.25  7937.5  10000.\n",
      " 17012.5   9775.   11675.   14736.25  9612.5  10537.5  10787.5  13775.\n",
      " 10486.25 11412.5  10225.    9162.5  10195.    7111.25  7111.25]\n"
     ]
    }
   ],
   "source": [
    "# 최적의 K 값에서 테스트 데이터의 Y 예측값\n",
    "best_corolla_knn = KNeighborsRegressor(n_neighbors = best_k)\n",
    "best_corolla_knn.fit(X_train_kr, Y_train)\n",
    "Y_predict_kr = best_corolla_knn.predict(X_test_kr)\n",
    "print(Y_predict_kr)"
   ]
  },
  {
   "cell_type": "markdown",
   "metadata": {},
   "source": [
    "### Linear Regression\n",
    "---"
   ]
  },
  {
   "cell_type": "code",
   "execution_count": 48,
   "metadata": {},
   "outputs": [
    {
     "data": {
      "text/html": [
       "<div>\n",
       "<style scoped>\n",
       "    .dataframe tbody tr th:only-of-type {\n",
       "        vertical-align: middle;\n",
       "    }\n",
       "\n",
       "    .dataframe tbody tr th {\n",
       "        vertical-align: top;\n",
       "    }\n",
       "\n",
       "    .dataframe thead th {\n",
       "        text-align: right;\n",
       "    }\n",
       "</style>\n",
       "<table border=\"1\" class=\"dataframe\">\n",
       "  <thead>\n",
       "    <tr style=\"text-align: right;\">\n",
       "      <th></th>\n",
       "      <th>const</th>\n",
       "      <th>Price</th>\n",
       "      <th>Age_08_04</th>\n",
       "      <th>Mfg_Month</th>\n",
       "      <th>Mfg_Year</th>\n",
       "      <th>KM</th>\n",
       "      <th>HP</th>\n",
       "      <th>Met_Color</th>\n",
       "      <th>Automatic</th>\n",
       "      <th>cc</th>\n",
       "      <th>...</th>\n",
       "      <th>Power_Steering</th>\n",
       "      <th>Radio</th>\n",
       "      <th>Mistlamps</th>\n",
       "      <th>Sport_Model</th>\n",
       "      <th>Backseat_Divider</th>\n",
       "      <th>Metallic_Rim</th>\n",
       "      <th>Radio_cassette</th>\n",
       "      <th>Tow_Bar</th>\n",
       "      <th>Diesel</th>\n",
       "      <th>CNG</th>\n",
       "    </tr>\n",
       "  </thead>\n",
       "  <tbody>\n",
       "    <tr>\n",
       "      <th>0</th>\n",
       "      <td>1.0</td>\n",
       "      <td>13500</td>\n",
       "      <td>23</td>\n",
       "      <td>10</td>\n",
       "      <td>2002</td>\n",
       "      <td>46986</td>\n",
       "      <td>90</td>\n",
       "      <td>1</td>\n",
       "      <td>0</td>\n",
       "      <td>2000</td>\n",
       "      <td>...</td>\n",
       "      <td>1</td>\n",
       "      <td>0</td>\n",
       "      <td>0</td>\n",
       "      <td>0</td>\n",
       "      <td>1</td>\n",
       "      <td>0</td>\n",
       "      <td>0</td>\n",
       "      <td>0</td>\n",
       "      <td>0</td>\n",
       "      <td>0</td>\n",
       "    </tr>\n",
       "    <tr>\n",
       "      <th>1</th>\n",
       "      <td>1.0</td>\n",
       "      <td>13750</td>\n",
       "      <td>23</td>\n",
       "      <td>10</td>\n",
       "      <td>2002</td>\n",
       "      <td>72937</td>\n",
       "      <td>90</td>\n",
       "      <td>1</td>\n",
       "      <td>0</td>\n",
       "      <td>2000</td>\n",
       "      <td>...</td>\n",
       "      <td>1</td>\n",
       "      <td>0</td>\n",
       "      <td>0</td>\n",
       "      <td>0</td>\n",
       "      <td>1</td>\n",
       "      <td>0</td>\n",
       "      <td>0</td>\n",
       "      <td>0</td>\n",
       "      <td>0</td>\n",
       "      <td>0</td>\n",
       "    </tr>\n",
       "    <tr>\n",
       "      <th>2</th>\n",
       "      <td>1.0</td>\n",
       "      <td>13950</td>\n",
       "      <td>24</td>\n",
       "      <td>9</td>\n",
       "      <td>2002</td>\n",
       "      <td>41711</td>\n",
       "      <td>90</td>\n",
       "      <td>1</td>\n",
       "      <td>0</td>\n",
       "      <td>2000</td>\n",
       "      <td>...</td>\n",
       "      <td>1</td>\n",
       "      <td>0</td>\n",
       "      <td>0</td>\n",
       "      <td>0</td>\n",
       "      <td>1</td>\n",
       "      <td>0</td>\n",
       "      <td>0</td>\n",
       "      <td>0</td>\n",
       "      <td>0</td>\n",
       "      <td>0</td>\n",
       "    </tr>\n",
       "    <tr>\n",
       "      <th>3</th>\n",
       "      <td>1.0</td>\n",
       "      <td>14950</td>\n",
       "      <td>26</td>\n",
       "      <td>7</td>\n",
       "      <td>2002</td>\n",
       "      <td>48000</td>\n",
       "      <td>90</td>\n",
       "      <td>0</td>\n",
       "      <td>0</td>\n",
       "      <td>2000</td>\n",
       "      <td>...</td>\n",
       "      <td>1</td>\n",
       "      <td>0</td>\n",
       "      <td>0</td>\n",
       "      <td>0</td>\n",
       "      <td>1</td>\n",
       "      <td>0</td>\n",
       "      <td>0</td>\n",
       "      <td>0</td>\n",
       "      <td>0</td>\n",
       "      <td>0</td>\n",
       "    </tr>\n",
       "    <tr>\n",
       "      <th>4</th>\n",
       "      <td>1.0</td>\n",
       "      <td>13750</td>\n",
       "      <td>30</td>\n",
       "      <td>3</td>\n",
       "      <td>2002</td>\n",
       "      <td>38500</td>\n",
       "      <td>90</td>\n",
       "      <td>0</td>\n",
       "      <td>0</td>\n",
       "      <td>2000</td>\n",
       "      <td>...</td>\n",
       "      <td>1</td>\n",
       "      <td>0</td>\n",
       "      <td>1</td>\n",
       "      <td>0</td>\n",
       "      <td>1</td>\n",
       "      <td>0</td>\n",
       "      <td>0</td>\n",
       "      <td>0</td>\n",
       "      <td>0</td>\n",
       "      <td>0</td>\n",
       "    </tr>\n",
       "  </tbody>\n",
       "</table>\n",
       "<p>5 rows × 37 columns</p>\n",
       "</div>"
      ],
      "text/plain": [
       "   const  Price  Age_08_04  Mfg_Month  Mfg_Year     KM  HP  Met_Color  \\\n",
       "0    1.0  13500         23         10      2002  46986  90          1   \n",
       "1    1.0  13750         23         10      2002  72937  90          1   \n",
       "2    1.0  13950         24          9      2002  41711  90          1   \n",
       "3    1.0  14950         26          7      2002  48000  90          0   \n",
       "4    1.0  13750         30          3      2002  38500  90          0   \n",
       "\n",
       "   Automatic    cc  ...  Power_Steering  Radio  Mistlamps  Sport_Model  \\\n",
       "0          0  2000  ...               1      0          0            0   \n",
       "1          0  2000  ...               1      0          0            0   \n",
       "2          0  2000  ...               1      0          0            0   \n",
       "3          0  2000  ...               1      0          0            0   \n",
       "4          0  2000  ...               1      0          1            0   \n",
       "\n",
       "   Backseat_Divider  Metallic_Rim  Radio_cassette  Tow_Bar  Diesel  CNG  \n",
       "0                 1             0               0        0       0    0  \n",
       "1                 1             0               0        0       0    0  \n",
       "2                 1             0               0        0       0    0  \n",
       "3                 1             0               0        0       0    0  \n",
       "4                 1             0               0        0       0    0  \n",
       "\n",
       "[5 rows x 37 columns]"
      ]
     },
     "execution_count": 48,
     "metadata": {},
     "output_type": "execute_result"
    }
   ],
   "source": [
    "# intercept 추가\n",
    "corolla_df = sm.add_constant(corolla_df, has_constant = 'add')\n",
    "corolla_df.head()"
   ]
  },
  {
   "cell_type": "code",
   "execution_count": 49,
   "metadata": {},
   "outputs": [],
   "source": [
    "lm = sm.OLS(Y_train, X_train)\n",
    "lm_train = lm.fit()"
   ]
  },
  {
   "cell_type": "code",
   "execution_count": 50,
   "metadata": {},
   "outputs": [
    {
     "data": {
      "text/html": [
       "<table class=\"simpletable\">\n",
       "<caption>OLS Regression Results</caption>\n",
       "<tr>\n",
       "  <th>Dep. Variable:</th>          <td>Price</td>      <th>  R-squared:         </th> <td>   0.905</td> \n",
       "</tr>\n",
       "<tr>\n",
       "  <th>Model:</th>                   <td>OLS</td>       <th>  Adj. R-squared:    </th> <td>   0.902</td> \n",
       "</tr>\n",
       "<tr>\n",
       "  <th>Method:</th>             <td>Least Squares</td>  <th>  F-statistic:       </th> <td>   300.2</td> \n",
       "</tr>\n",
       "<tr>\n",
       "  <th>Date:</th>             <td>Thu, 14 Oct 2021</td> <th>  Prob (F-statistic):</th>  <td>  0.00</td>  \n",
       "</tr>\n",
       "<tr>\n",
       "  <th>Time:</th>                 <td>14:17:45</td>     <th>  Log-Likelihood:    </th> <td> -8485.8</td> \n",
       "</tr>\n",
       "<tr>\n",
       "  <th>No. Observations:</th>      <td>  1005</td>      <th>  AIC:               </th> <td>1.704e+04</td>\n",
       "</tr>\n",
       "<tr>\n",
       "  <th>Df Residuals:</th>          <td>   973</td>      <th>  BIC:               </th> <td>1.719e+04</td>\n",
       "</tr>\n",
       "<tr>\n",
       "  <th>Df Model:</th>              <td>    31</td>      <th>                     </th>     <td> </td>    \n",
       "</tr>\n",
       "<tr>\n",
       "  <th>Covariance Type:</th>      <td>nonrobust</td>    <th>                     </th>     <td> </td>    \n",
       "</tr>\n",
       "</table>\n",
       "<table class=\"simpletable\">\n",
       "<tr>\n",
       "          <td></td>            <th>coef</th>     <th>std err</th>      <th>t</th>      <th>P>|t|</th>  <th>[0.025</th>    <th>0.975]</th>  \n",
       "</tr>\n",
       "<tr>\n",
       "  <th>ABS</th>              <td> -237.0237</td> <td>  139.800</td> <td>   -1.695</td> <td> 0.090</td> <td> -511.367</td> <td>   37.320</td>\n",
       "</tr>\n",
       "<tr>\n",
       "  <th>Age_08_04</th>        <td> -119.6121</td> <td>    4.244</td> <td>  -28.181</td> <td> 0.000</td> <td> -127.942</td> <td> -111.283</td>\n",
       "</tr>\n",
       "<tr>\n",
       "  <th>Airbag_1</th>         <td>  295.1593</td> <td>  301.913</td> <td>    0.978</td> <td> 0.328</td> <td> -297.316</td> <td>  887.635</td>\n",
       "</tr>\n",
       "<tr>\n",
       "  <th>Airbag_2</th>         <td>  -55.7698</td> <td>  144.255</td> <td>   -0.387</td> <td> 0.699</td> <td> -338.856</td> <td>  227.316</td>\n",
       "</tr>\n",
       "<tr>\n",
       "  <th>Airco</th>            <td>  184.4450</td> <td>   97.560</td> <td>    1.891</td> <td> 0.059</td> <td>   -7.008</td> <td>  375.898</td>\n",
       "</tr>\n",
       "<tr>\n",
       "  <th>Automatic</th>        <td>  455.0164</td> <td>  159.718</td> <td>    2.849</td> <td> 0.004</td> <td>  141.585</td> <td>  768.448</td>\n",
       "</tr>\n",
       "<tr>\n",
       "  <th>Automatic_airco</th>  <td> 2463.8879</td> <td>  202.140</td> <td>   12.189</td> <td> 0.000</td> <td> 2067.208</td> <td> 2860.568</td>\n",
       "</tr>\n",
       "<tr>\n",
       "  <th>BOVAG_Guarantee</th>  <td>  427.0550</td> <td>  141.004</td> <td>    3.029</td> <td> 0.003</td> <td>  150.348</td> <td>  703.762</td>\n",
       "</tr>\n",
       "<tr>\n",
       "  <th>Backseat_Divider</th> <td>  -37.9778</td> <td>  139.758</td> <td>   -0.272</td> <td> 0.786</td> <td> -312.240</td> <td>  236.284</td>\n",
       "</tr>\n",
       "<tr>\n",
       "  <th>Boardcomputer</th>    <td> -372.4103</td> <td>  126.129</td> <td>   -2.953</td> <td> 0.003</td> <td> -619.926</td> <td> -124.895</td>\n",
       "</tr>\n",
       "<tr>\n",
       "  <th>CD_Player</th>        <td>  163.4510</td> <td>  109.367</td> <td>    1.495</td> <td> 0.135</td> <td>  -51.171</td> <td>  378.073</td>\n",
       "</tr>\n",
       "<tr>\n",
       "  <th>CNG</th>              <td>-1.167e-08</td> <td> 3.09e-09</td> <td>   -3.772</td> <td> 0.000</td> <td>-1.77e-08</td> <td> -5.6e-09</td>\n",
       "</tr>\n",
       "<tr>\n",
       "  <th>Central_Lock</th>     <td>   19.7611</td> <td>  164.708</td> <td>    0.120</td> <td> 0.905</td> <td> -303.462</td> <td>  342.984</td>\n",
       "</tr>\n",
       "<tr>\n",
       "  <th>Cylinders</th>        <td>   -0.0307</td> <td>    0.002</td> <td>  -13.312</td> <td> 0.000</td> <td>   -0.035</td> <td>   -0.026</td>\n",
       "</tr>\n",
       "<tr>\n",
       "  <th>Diesel</th>           <td>-6.916e-09</td> <td> 8.76e-10</td> <td>   -7.896</td> <td> 0.000</td> <td>-8.63e-09</td> <td> -5.2e-09</td>\n",
       "</tr>\n",
       "<tr>\n",
       "  <th>Doors</th>            <td>   73.9733</td> <td>   43.425</td> <td>    1.703</td> <td> 0.089</td> <td>  -11.243</td> <td>  159.190</td>\n",
       "</tr>\n",
       "<tr>\n",
       "  <th>Gears</th>            <td>  158.7685</td> <td>  206.469</td> <td>    0.769</td> <td> 0.442</td> <td> -246.408</td> <td>  563.945</td>\n",
       "</tr>\n",
       "<tr>\n",
       "  <th>Guarantee_Period</th> <td>   77.2049</td> <td>   15.140</td> <td>    5.100</td> <td> 0.000</td> <td>   47.495</td> <td>  106.915</td>\n",
       "</tr>\n",
       "<tr>\n",
       "  <th>HP</th>               <td>   32.8136</td> <td>    3.296</td> <td>    9.954</td> <td> 0.000</td> <td>   26.345</td> <td>   39.283</td>\n",
       "</tr>\n",
       "<tr>\n",
       "  <th>KM</th>               <td>   -0.0170</td> <td>    0.001</td> <td>  -12.324</td> <td> 0.000</td> <td>   -0.020</td> <td>   -0.014</td>\n",
       "</tr>\n",
       "<tr>\n",
       "  <th>Met_Color</th>        <td>    9.9779</td> <td>   82.344</td> <td>    0.121</td> <td> 0.904</td> <td> -151.614</td> <td>  171.569</td>\n",
       "</tr>\n",
       "<tr>\n",
       "  <th>Metallic_Rim</th>     <td>  256.9196</td> <td>  104.300</td> <td>    2.463</td> <td> 0.014</td> <td>   52.240</td> <td>  461.599</td>\n",
       "</tr>\n",
       "<tr>\n",
       "  <th>Mfg_Month</th>        <td>  -94.3365</td> <td>   11.228</td> <td>   -8.402</td> <td> 0.000</td> <td> -116.370</td> <td>  -72.303</td>\n",
       "</tr>\n",
       "<tr>\n",
       "  <th>Mfg_Year</th>         <td>    2.4251</td> <td>    0.801</td> <td>    3.029</td> <td> 0.003</td> <td>    0.854</td> <td>    3.996</td>\n",
       "</tr>\n",
       "<tr>\n",
       "  <th>Mfr_Guarantee</th>    <td>  186.3285</td> <td>   80.487</td> <td>    2.315</td> <td> 0.021</td> <td>   28.381</td> <td>  344.276</td>\n",
       "</tr>\n",
       "<tr>\n",
       "  <th>Mistlamps</th>        <td>  -56.4834</td> <td>  116.342</td> <td>   -0.485</td> <td> 0.627</td> <td> -284.794</td> <td>  171.827</td>\n",
       "</tr>\n",
       "<tr>\n",
       "  <th>Power_Steering</th>   <td> -454.6367</td> <td>  341.705</td> <td>   -1.330</td> <td> 0.184</td> <td>-1125.201</td> <td>  215.927</td>\n",
       "</tr>\n",
       "<tr>\n",
       "  <th>Powered_Windows</th>  <td>  374.0198</td> <td>  164.153</td> <td>    2.278</td> <td> 0.023</td> <td>   51.885</td> <td>  696.154</td>\n",
       "</tr>\n",
       "<tr>\n",
       "  <th>Quarterly_Tax</th>    <td>   12.9603</td> <td>    1.642</td> <td>    7.894</td> <td> 0.000</td> <td>    9.738</td> <td>   16.182</td>\n",
       "</tr>\n",
       "<tr>\n",
       "  <th>Radio</th>            <td> -363.2936</td> <td>  836.204</td> <td>   -0.434</td> <td> 0.664</td> <td>-2004.264</td> <td> 1277.677</td>\n",
       "</tr>\n",
       "<tr>\n",
       "  <th>Radio_cassette</th>   <td>  336.4718</td> <td>  838.585</td> <td>    0.401</td> <td> 0.688</td> <td>-1309.172</td> <td> 1982.116</td>\n",
       "</tr>\n",
       "<tr>\n",
       "  <th>Sport_Model</th>      <td>  355.3831</td> <td>   94.491</td> <td>    3.761</td> <td> 0.000</td> <td>  169.954</td> <td>  540.813</td>\n",
       "</tr>\n",
       "<tr>\n",
       "  <th>Tow_Bar</th>          <td> -160.1461</td> <td>   86.954</td> <td>   -1.842</td> <td> 0.066</td> <td> -330.786</td> <td>   10.494</td>\n",
       "</tr>\n",
       "<tr>\n",
       "  <th>Weight</th>           <td>    9.7609</td> <td>    1.228</td> <td>    7.949</td> <td> 0.000</td> <td>    7.351</td> <td>   12.170</td>\n",
       "</tr>\n",
       "<tr>\n",
       "  <th>cc</th>               <td>   -1.6742</td> <td>    0.345</td> <td>   -4.858</td> <td> 0.000</td> <td>   -2.351</td> <td>   -0.998</td>\n",
       "</tr>\n",
       "</table>\n",
       "<table class=\"simpletable\">\n",
       "<tr>\n",
       "  <th>Omnibus:</th>       <td>102.757</td> <th>  Durbin-Watson:     </th> <td>   2.032</td> \n",
       "</tr>\n",
       "<tr>\n",
       "  <th>Prob(Omnibus):</th> <td> 0.000</td>  <th>  Jarque-Bera (JB):  </th> <td> 733.290</td> \n",
       "</tr>\n",
       "<tr>\n",
       "  <th>Skew:</th>          <td> 0.055</td>  <th>  Prob(JB):          </th> <td>5.86e-160</td>\n",
       "</tr>\n",
       "<tr>\n",
       "  <th>Kurtosis:</th>      <td> 7.183</td>  <th>  Cond. No.          </th> <td>1.32e+16</td> \n",
       "</tr>\n",
       "</table><br/><br/>Warnings:<br/>[1] Standard Errors assume that the covariance matrix of the errors is correctly specified.<br/>[2] The smallest eigenvalue is 3.42e-20. This might indicate that there are<br/>strong multicollinearity problems or that the design matrix is singular."
      ],
      "text/plain": [
       "<class 'statsmodels.iolib.summary.Summary'>\n",
       "\"\"\"\n",
       "                            OLS Regression Results                            \n",
       "==============================================================================\n",
       "Dep. Variable:                  Price   R-squared:                       0.905\n",
       "Model:                            OLS   Adj. R-squared:                  0.902\n",
       "Method:                 Least Squares   F-statistic:                     300.2\n",
       "Date:                Thu, 14 Oct 2021   Prob (F-statistic):               0.00\n",
       "Time:                        14:17:45   Log-Likelihood:                -8485.8\n",
       "No. Observations:                1005   AIC:                         1.704e+04\n",
       "Df Residuals:                     973   BIC:                         1.719e+04\n",
       "Df Model:                          31                                         \n",
       "Covariance Type:            nonrobust                                         \n",
       "====================================================================================\n",
       "                       coef    std err          t      P>|t|      [0.025      0.975]\n",
       "------------------------------------------------------------------------------------\n",
       "ABS               -237.0237    139.800     -1.695      0.090    -511.367      37.320\n",
       "Age_08_04         -119.6121      4.244    -28.181      0.000    -127.942    -111.283\n",
       "Airbag_1           295.1593    301.913      0.978      0.328    -297.316     887.635\n",
       "Airbag_2           -55.7698    144.255     -0.387      0.699    -338.856     227.316\n",
       "Airco              184.4450     97.560      1.891      0.059      -7.008     375.898\n",
       "Automatic          455.0164    159.718      2.849      0.004     141.585     768.448\n",
       "Automatic_airco   2463.8879    202.140     12.189      0.000    2067.208    2860.568\n",
       "BOVAG_Guarantee    427.0550    141.004      3.029      0.003     150.348     703.762\n",
       "Backseat_Divider   -37.9778    139.758     -0.272      0.786    -312.240     236.284\n",
       "Boardcomputer     -372.4103    126.129     -2.953      0.003    -619.926    -124.895\n",
       "CD_Player          163.4510    109.367      1.495      0.135     -51.171     378.073\n",
       "CNG              -1.167e-08   3.09e-09     -3.772      0.000   -1.77e-08    -5.6e-09\n",
       "Central_Lock        19.7611    164.708      0.120      0.905    -303.462     342.984\n",
       "Cylinders           -0.0307      0.002    -13.312      0.000      -0.035      -0.026\n",
       "Diesel           -6.916e-09   8.76e-10     -7.896      0.000   -8.63e-09    -5.2e-09\n",
       "Doors               73.9733     43.425      1.703      0.089     -11.243     159.190\n",
       "Gears              158.7685    206.469      0.769      0.442    -246.408     563.945\n",
       "Guarantee_Period    77.2049     15.140      5.100      0.000      47.495     106.915\n",
       "HP                  32.8136      3.296      9.954      0.000      26.345      39.283\n",
       "KM                  -0.0170      0.001    -12.324      0.000      -0.020      -0.014\n",
       "Met_Color            9.9779     82.344      0.121      0.904    -151.614     171.569\n",
       "Metallic_Rim       256.9196    104.300      2.463      0.014      52.240     461.599\n",
       "Mfg_Month          -94.3365     11.228     -8.402      0.000    -116.370     -72.303\n",
       "Mfg_Year             2.4251      0.801      3.029      0.003       0.854       3.996\n",
       "Mfr_Guarantee      186.3285     80.487      2.315      0.021      28.381     344.276\n",
       "Mistlamps          -56.4834    116.342     -0.485      0.627    -284.794     171.827\n",
       "Power_Steering    -454.6367    341.705     -1.330      0.184   -1125.201     215.927\n",
       "Powered_Windows    374.0198    164.153      2.278      0.023      51.885     696.154\n",
       "Quarterly_Tax       12.9603      1.642      7.894      0.000       9.738      16.182\n",
       "Radio             -363.2936    836.204     -0.434      0.664   -2004.264    1277.677\n",
       "Radio_cassette     336.4718    838.585      0.401      0.688   -1309.172    1982.116\n",
       "Sport_Model        355.3831     94.491      3.761      0.000     169.954     540.813\n",
       "Tow_Bar           -160.1461     86.954     -1.842      0.066    -330.786      10.494\n",
       "Weight               9.7609      1.228      7.949      0.000       7.351      12.170\n",
       "cc                  -1.6742      0.345     -4.858      0.000      -2.351      -0.998\n",
       "==============================================================================\n",
       "Omnibus:                      102.757   Durbin-Watson:                   2.032\n",
       "Prob(Omnibus):                  0.000   Jarque-Bera (JB):              733.290\n",
       "Skew:                           0.055   Prob(JB):                    5.86e-160\n",
       "Kurtosis:                       7.183   Cond. No.                     1.32e+16\n",
       "==============================================================================\n",
       "\n",
       "Warnings:\n",
       "[1] Standard Errors assume that the covariance matrix of the errors is correctly specified.\n",
       "[2] The smallest eigenvalue is 3.42e-20. This might indicate that there are\n",
       "strong multicollinearity problems or that the design matrix is singular.\n",
       "\"\"\""
      ]
     },
     "execution_count": 50,
     "metadata": {},
     "output_type": "execute_result"
    }
   ],
   "source": [
    "lm_train.summary()"
   ]
  },
  {
   "cell_type": "code",
   "execution_count": 51,
   "metadata": {},
   "outputs": [
    {
     "name": "stdout",
     "output_type": "stream",
     "text": [
      "509     11395.230598\n",
      "435     10444.359594\n",
      "321     13155.675485\n",
      "1055     6221.670002\n",
      "288     12817.268153\n",
      "            ...     \n",
      "1430     8033.311123\n",
      "868     10398.185015\n",
      "478     10904.273061\n",
      "1173     7113.896685\n",
      "419      9708.545653\n",
      "Length: 431, dtype: float64\n"
     ]
    }
   ],
   "source": [
    "Y_predict_lr = lm_train.predict(X_test)\n",
    "print(Y_predict_lr)"
   ]
  },
  {
   "cell_type": "markdown",
   "metadata": {},
   "source": [
    "### Result: KNN Regression VS Linear Regression\n",
    "---"
   ]
  },
  {
   "cell_type": "code",
   "execution_count": 52,
   "metadata": {},
   "outputs": [
    {
     "data": {
      "image/png": "[encoded data removed]",
      "text/plain": [
       "<Figure size 1152x576 with 2 Axes>"
      ]
     },
     "metadata": {
      "needs_background": "light"
     },
     "output_type": "display_data"
    }
   ],
   "source": [
    "plt.figure(figsize = (16, 8))\n",
    "plt.subplot(1, 2, 1)\n",
    "plt.scatter(Y_test, Y_predict_kr)\n",
    "plt.xlabel('Y', size = 16)\n",
    "plt.ylabel('$\\hat{Y}$', size = 16)\n",
    "plt.subplot(1, 2, 2)\n",
    "plt.scatter(Y_test, Y_predict_lr)\n",
    "plt.xlabel('Y', size = 16)\n",
    "plt.ylabel('$\\hat{Y}$', size = 16)\n",
    "plt.show()"
   ]
  },
  {
   "cell_type": "code",
   "execution_count": 53,
   "metadata": {},
   "outputs": [
    {
     "name": "stdout",
     "output_type": "stream",
     "text": [
      "MAE from KNN Regression : 1544.914\n",
      "MAE from Linear Regression : 874.241\n",
      "MSE from KNN Regression : 4477278.351\n",
      "MSE from Linear Regression : 2464699.091\n",
      "RMSE from KNN Regression : 2115.958\n",
      "RMSE from Linear Regression : 1569.936\n",
      "R-square from KNN Regression : 0.647\n",
      "R-square from Linear Regression : 0.805\n"
     ]
    }
   ],
   "source": [
    "# MSE(mean squared error), R-squared (모형 성능 비교)\n",
    "mae_kr = mean_absolute_error(Y_test, Y_predict_kr)\n",
    "mae_lr = mean_absolute_error(Y_test, Y_predict_lr)\n",
    "mse_kr = mean_squared_error(Y_test, Y_predict_kr)\n",
    "mse_lr = mean_squared_error(Y_test, Y_predict_lr)\n",
    "rmse_kr = np.sqrt(mse_kr)\n",
    "rmse_lr = np.sqrt(mse_lr)\n",
    "r_square_kr = r2_score(Y_test, Y_predict_kr)\n",
    "r_square_lr = r2_score(Y_test, Y_predict_lr)\n",
    "print('MAE from KNN Regression : {0:.3f}'.format(mae_kr))\n",
    "print('MAE from Linear Regression : {0:.3f}'.format(mae_lr))\n",
    "print('MSE from KNN Regression : {0:.3f}'.format(mse_kr))\n",
    "print('MSE from Linear Regression : {0:.3f}'.format(mse_lr))\n",
    "print('RMSE from KNN Regression : {0:.3f}'.format(rmse_kr))\n",
    "print('RMSE from Linear Regression : {0:.3f}'.format(rmse_lr))\n",
    "print('R-square from KNN Regression : {0:.3f}'.format(r_square_kr))\n",
    "print('R-square from Linear Regression : {0:.3f}'.format(r_square_lr))"
   ]
  },
  {
   "cell_type": "code",
   "execution_count": null,
   "metadata": {},
   "outputs": [],
   "source": []
  }
 ],
 "metadata": {
  "kernelspec": {
   "display_name": "Python 3",
   "language": "python",
   "name": "python3"
  },
  "language_info": {
   "codemirror_mode": {
    "name": "ipython",
    "version": 3
   },
   "file_extension": ".py",
   "mimetype": "text/x-python",
   "name": "python",
   "nbconvert_exporter": "python",
   "pygments_lexer": "ipython3",
   "version": "3.7.6"
  }
 },
 "nbformat": 4,
 "nbformat_minor": 4
}
